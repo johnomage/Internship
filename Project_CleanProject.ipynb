{
 "cells": [
  {
   "cell_type": "code",
   "execution_count": 24,
   "metadata": {},
   "outputs": [],
   "source": [
    "from selenium.webdriver import Chrome\n",
    "from selenium.webdriver.common.by import By\n",
    "from selenium.webdriver.common.keys import Keys\n",
    "from selenium.webdriver.chrome.options import Options\n",
    "from selenium.common import NoSuchElementException\n",
    "# from selenium.w\n",
    "import pandas as pd\n",
    "import numpy as np\n",
    "from time import sleep\n",
    "\n",
    "import selenium\n",
    "\n"
   ]
  },
  {
   "cell_type": "code",
   "execution_count": 57,
   "metadata": {},
   "outputs": [],
   "source": [
    "# https://stackoverflow.com/questions/76086069/selenium-webdriver-click-on-accept-cookies-button\n",
    "\n",
    "options = Options()\n",
    "options.add_argument(\"start-maximized\")\n",
    "driver = Chrome(options=options)\n",
    "driver.get('https://www.reddit.com/r/ethtrader/')\n",
    "driver.get('https://www.reddit.com/search/?q=Ethereum&sort=new')\n",
    "\n",
    "sleep(2)\n",
    "\n",
    "# driver.find_element(By.XPATH, '//*[@id=\"SHORTCUT_FOCUSABLE_DIV\"]/div[3]/div/section/div/section[2]/section[2]/form/button').click()\n",
    "# sleep(1)\n",
    "# driver.find_element(By.XPATH, '//*[@id=\"SHORTCUT_FOCUSABLE_DIV\"]/div[4]//div/div/button').click()\n",
    "# sleep(1)\n",
    "\n",
    "# driver.find_element(By.XPATH, '//*[@id=\"AppRouter-main-content\"]/div/div/div[2]/div[4]/div[1]/div[1]/div[2]/a[2]').click()\n",
    "\n",
    "\n",
    "# shadow = driver.find_element(By.TAG_NAME, \"shreddit-async-loader\").shadow_root\n",
    "# sleep(2)\n",
    "# shadow.find_element(By.ID, \"accept-all-cookies-button\").click()\n",
    "\n",
    "# # driver.find_element(By.XPATH, \"//span[contains(text(), 'Reject non-essential')]\")\n",
    "\n",
    "# drop_down = driver.find_element(By.XPATH, \"//div[@slot='dropdown-items']\")\n",
    "# drop_down.click()\n",
    "\n",
    "# Find the parent element containing the shadow DOM\n",
    "parent_element = driver.find_element(By.TAG_NAME, \"reddit-cookie-banner\")\n",
    "\n",
    "# Get the shadow root of the parent element\n",
    "shadow_root = driver.execute_script(\"return arguments[0].shadowRoot;\", parent_element)\n",
    "\n",
    "# Now you can interact with elements within the shadow root\n",
    "try:\n",
    "    accept_button = shadow_root.find_element(By.ID, \"accept-all-cookies-button\")\n",
    "    accept_button.click()\n",
    "except NoSuchElementException:\n",
    "    print(\"Accept button not found\")\n",
    "\n",
    "\n",
    "sleep(2)\n",
    "driver.find_element(By.XPATH, '//a[@id=\"login-button\"]').click()\n",
    "sleep(1)\n",
    "driver.find_element(By.XPATH, '//div[@class=\"BottomText login \"]').click()\n",
    "\n",
    "username = driver.find_element(By.XPATH, '//input[@id=\"loginUsername\"]')\n",
    "\n",
    "username.send_keys(Keys.CONTROL + 'a')\n",
    "username.send_keys('johnomage')\n",
    "\n",
    "password = driver.find_element(By.XPATH, '//input[@id=\"loginPassword\"]')\n",
    "password.send_keys('Success_1226')\n",
    "driver.find_element(By.XPATH, \"//fieldset[5]/button\").click()\n",
    "\n",
    "# sleep(1.3)\n",
    "# driver.get(driver.current_url + '/r/ethereum/')\n",
    "sleep(2.5)\n",
    "driver.find_element(By.XPATH, '//*[@id=\"AppRouter-main-content\"]/div/div/div[2]/div[2]/div[1]/div[2]/div[2]/a[3]').click()\n",
    "\n"
   ]
  },
  {
   "cell_type": "code",
   "execution_count": 59,
   "metadata": {},
   "outputs": [],
   "source": [
    "sleep(2)\n",
    "search =driver.find_element(By.XPATH, '//input[@type=\"search\"]')\n",
    "search.send_keys(Keys.CONTROL + 'a')\n",
    "search.send_keys('Ethereum')\n",
    "search.send_keys(Keys.RETURN)\n",
    "# driver.find_element(By.XPATH, '/html/body/div[55]/div/a[4]/button').click()"
   ]
  },
  {
   "cell_type": "code",
   "execution_count": 15,
   "metadata": {},
   "outputs": [],
   "source": [
    "def scrape(pause_time=2, max_posts=100):\n",
    "    data = {'post': [], 'date': []}\n",
    "    scroll_attempts = 0\n",
    "    max_scroll_attempts = 5\n",
    "\n",
    "    while len(data['post']) < max_posts:# and scroll_attempts < max_scroll_attempts:\n",
    "        posts = driver.find_elements(By.XPATH, '//a[@data-testid=\"post-title\"]')\n",
    "        datetimes = driver.find_elements(By.XPATH, '//time')\n",
    "\n",
    "        for post in posts:\n",
    "            data['post'].append(post.text)\n",
    "\n",
    "        for datetime in datetimes:\n",
    "            data['date'].append(datetime.get_attribute('title'))\n",
    "\n",
    "        # Perform auto-scroll using JavaScript\n",
    "        driver.execute_script(\"window.scrollTo(0, document.body.scrollHeight);\")\n",
    "\n",
    "        # Wait for a short time for new content to load\n",
    "        sleep(pause_time)\n",
    "\n",
    "        # Count the number of scroll attempts\n",
    "        scroll_attempts += 1\n",
    "\n",
    "    return pd.DataFrame(data)\n",
    "\n"
   ]
  },
  {
   "cell_type": "code",
   "execution_count": 60,
   "metadata": {},
   "outputs": [],
   "source": [
    "\n",
    "try:\n",
    "    eth_reddit_data = scrape(max_posts=50000)\n",
    "except:\n",
    "    eth_reddit_data"
   ]
  },
  {
   "cell_type": "code",
   "execution_count": 174,
   "metadata": {},
   "outputs": [
    {
     "data": {
      "text/html": [
       "<div>\n",
       "<style scoped>\n",
       "    .dataframe tbody tr th:only-of-type {\n",
       "        vertical-align: middle;\n",
       "    }\n",
       "\n",
       "    .dataframe tbody tr th {\n",
       "        vertical-align: top;\n",
       "    }\n",
       "\n",
       "    .dataframe thead th {\n",
       "        text-align: right;\n",
       "    }\n",
       "</style>\n",
       "<table border=\"1\" class=\"dataframe\">\n",
       "  <thead>\n",
       "    <tr style=\"text-align: right;\">\n",
       "      <th></th>\n",
       "      <th>post</th>\n",
       "    </tr>\n",
       "    <tr>\n",
       "      <th>date</th>\n",
       "      <th></th>\n",
       "    </tr>\n",
       "  </thead>\n",
       "  <tbody>\n",
       "    <tr>\n",
       "      <th>2023-07-24 01:47:08-01:00</th>\n",
       "      <td>THE Q NETWORK AND ITS COMMUNITY</td>\n",
       "    </tr>\n",
       "    <tr>\n",
       "      <th>2023-07-24 01:44:27-01:00</th>\n",
       "      <td>Newton Referral Code - New users get a $25 sig...</td>\n",
       "    </tr>\n",
       "    <tr>\n",
       "      <th>2023-07-24 01:20:43-01:00</th>\n",
       "      <td>Figment is hiring Principal DevOps Engineer, E...</td>\n",
       "    </tr>\n",
       "    <tr>\n",
       "      <th>2023-07-24 01:01:42-01:00</th>\n",
       "      <td>r/AlgorandOfficial Weekly Recap: Jul 17 - Jul ...</td>\n",
       "    </tr>\n",
       "    <tr>\n",
       "      <th>2023-07-24 01:01:26-01:00</th>\n",
       "      <td>Unleashing the Power of INFRA Token: 5 Incredi...</td>\n",
       "    </tr>\n",
       "  </tbody>\n",
       "</table>\n",
       "</div>"
      ],
      "text/plain": [
       "                                                                        post\n",
       "date                                                                        \n",
       "2023-07-24 01:47:08-01:00                    THE Q NETWORK AND ITS COMMUNITY\n",
       "2023-07-24 01:44:27-01:00  Newton Referral Code - New users get a $25 sig...\n",
       "2023-07-24 01:20:43-01:00  Figment is hiring Principal DevOps Engineer, E...\n",
       "2023-07-24 01:01:42-01:00  r/AlgorandOfficial Weekly Recap: Jul 17 - Jul ...\n",
       "2023-07-24 01:01:26-01:00  Unleashing the Power of INFRA Token: 5 Incredi..."
      ]
     },
     "execution_count": 174,
     "metadata": {},
     "output_type": "execute_result"
    }
   ],
   "source": [
    "eth_reddit_data.head()"
   ]
  },
  {
   "cell_type": "code",
   "execution_count": 176,
   "metadata": {},
   "outputs": [
    {
     "data": {
      "text/html": [
       "<div>\n",
       "<style scoped>\n",
       "    .dataframe tbody tr th:only-of-type {\n",
       "        vertical-align: middle;\n",
       "    }\n",
       "\n",
       "    .dataframe tbody tr th {\n",
       "        vertical-align: top;\n",
       "    }\n",
       "\n",
       "    .dataframe thead th {\n",
       "        text-align: right;\n",
       "    }\n",
       "</style>\n",
       "<table border=\"1\" class=\"dataframe\">\n",
       "  <thead>\n",
       "    <tr style=\"text-align: right;\">\n",
       "      <th></th>\n",
       "      <th>post</th>\n",
       "    </tr>\n",
       "    <tr>\n",
       "      <th>date</th>\n",
       "      <th></th>\n",
       "    </tr>\n",
       "  </thead>\n",
       "  <tbody>\n",
       "    <tr>\n",
       "      <th>2023-07-22 17:00:00-01:00</th>\n",
       "      <td>Quiet Ethereum Hits a Possible Bottom: What On...</td>\n",
       "    </tr>\n",
       "    <tr>\n",
       "      <th>2023-07-22 18:00:00-01:00</th>\n",
       "      <td>Sarcophagus(Dead man-switch); a better option ...</td>\n",
       "    </tr>\n",
       "    <tr>\n",
       "      <th>2023-07-22 19:00:00-01:00</th>\n",
       "      <td>Solana to Soar 870% After Ethereum’s Bull Run ,👀</td>\n",
       "    </tr>\n",
       "    <tr>\n",
       "      <th>2023-07-22 20:00:00-01:00</th>\n",
       "      <td>Money Matters: The rise of digital currencies ...</td>\n",
       "    </tr>\n",
       "    <tr>\n",
       "      <th>2023-07-22 21:00:00-01:00</th>\n",
       "      <td>Theory: GPU mining either lives or dies with R...</td>\n",
       "    </tr>\n",
       "    <tr>\n",
       "      <th>2023-07-22 22:00:00-01:00</th>\n",
       "      <td>New Lido drop wich supported by Ethereum! We'r...</td>\n",
       "    </tr>\n",
       "    <tr>\n",
       "      <th>2023-07-22 23:00:00-01:00</th>\n",
       "      <td>buy cards with ethereum</td>\n",
       "    </tr>\n",
       "    <tr>\n",
       "      <th>2023-07-23 00:00:00-01:00</th>\n",
       "      <td>Nano Faces Hate Despite Its Useful and Fully D...</td>\n",
       "    </tr>\n",
       "    <tr>\n",
       "      <th>2023-07-23 01:00:00-01:00</th>\n",
       "      <td>Santiment Explains Why Ethereum Could Soon Ret...</td>\n",
       "    </tr>\n",
       "    <tr>\n",
       "      <th>2023-07-23 02:00:00-01:00</th>\n",
       "      <td>how can I recover my cryptocurrency from scamm...</td>\n",
       "    </tr>\n",
       "    <tr>\n",
       "      <th>2023-07-23 03:00:00-01:00</th>\n",
       "      <td>Ethereum Hackeer</td>\n",
       "    </tr>\n",
       "    <tr>\n",
       "      <th>2023-07-23 04:00:00-01:00</th>\n",
       "      <td>Ribbon finance gemini</td>\n",
       "    </tr>\n",
       "    <tr>\n",
       "      <th>2023-07-23 05:00:00-01:00</th>\n",
       "      <td>Biking Exchange Daily News #Celsius Network #P...</td>\n",
       "    </tr>\n",
       "    <tr>\n",
       "      <th>2023-07-23 06:00:00-01:00</th>\n",
       "      <td>Some tips you might need for trading on crypto...</td>\n",
       "    </tr>\n",
       "    <tr>\n",
       "      <th>2023-07-23 07:00:00-01:00</th>\n",
       "      <td>Crorepati Lucky Draw Smart Contract Coming Soo...</td>\n",
       "    </tr>\n",
       "    <tr>\n",
       "      <th>2023-07-23 08:00:00-01:00</th>\n",
       "      <td>EVM vs all other chains</td>\n",
       "    </tr>\n",
       "    <tr>\n",
       "      <th>2023-07-23 09:00:00-01:00</th>\n",
       "      <td>Why do crypto whales prefer DigiToads over Lit...</td>\n",
       "    </tr>\n",
       "    <tr>\n",
       "      <th>2023-07-23 10:00:00-01:00</th>\n",
       "      <td>New Document for Ethereum (ETH) Units With $52...</td>\n",
       "    </tr>\n",
       "    <tr>\n",
       "      <th>2023-07-23 11:00:00-01:00</th>\n",
       "      <td>With #PAWchain’s staking platform, you can ear...</td>\n",
       "    </tr>\n",
       "    <tr>\n",
       "      <th>2023-07-23 12:00:00-01:00</th>\n",
       "      <td>Alphapo's Hot Wallet Breach: Cryptocurrency Pa...</td>\n",
       "    </tr>\n",
       "    <tr>\n",
       "      <th>2023-07-23 13:00:00-01:00</th>\n",
       "      <td>Big Sell-Off Coming for Altcoins, but Ethereum...</td>\n",
       "    </tr>\n",
       "    <tr>\n",
       "      <th>2023-07-23 14:00:00-01:00</th>\n",
       "      <td>Bitcoin and Ethereum experience losses as inte...</td>\n",
       "    </tr>\n",
       "    <tr>\n",
       "      <th>2023-07-23 15:00:00-01:00</th>\n",
       "      <td>Polkadot is the Next Real Ethereum. No Stoppin...</td>\n",
       "    </tr>\n",
       "    <tr>\n",
       "      <th>2023-07-23 16:00:00-01:00</th>\n",
       "      <td>Reminds me of the early days of Ethereum!!!!</td>\n",
       "    </tr>\n",
       "    <tr>\n",
       "      <th>2023-07-23 17:00:00-01:00</th>\n",
       "      <td>Current &amp; Goal Investments</td>\n",
       "    </tr>\n",
       "    <tr>\n",
       "      <th>2023-07-23 18:00:00-01:00</th>\n",
       "      <td>\"Unleashing $MCDEEZ: The Unexpected Meme Coin ...</td>\n",
       "    </tr>\n",
       "    <tr>\n",
       "      <th>2023-07-23 19:00:00-01:00</th>\n",
       "      <td>I just received Unisocks NFT in my ledger wall...</td>\n",
       "    </tr>\n",
       "    <tr>\n",
       "      <th>2023-07-23 20:00:00-01:00</th>\n",
       "      <td>Exploring the Potential of Account Abstraction</td>\n",
       "    </tr>\n",
       "    <tr>\n",
       "      <th>2023-07-23 21:00:00-01:00</th>\n",
       "      <td>Looking to migrate your applications from Ethe...</td>\n",
       "    </tr>\n",
       "    <tr>\n",
       "      <th>2023-07-23 22:00:00-01:00</th>\n",
       "      <td>Guess which project minted 1,000,000 Nfts in t...</td>\n",
       "    </tr>\n",
       "    <tr>\n",
       "      <th>2023-07-23 23:00:00-01:00</th>\n",
       "      <td>Have you heard about the new drop from Lido? I...</td>\n",
       "    </tr>\n",
       "    <tr>\n",
       "      <th>2023-07-24 00:00:00-01:00</th>\n",
       "      <td>Crypto while you were sleeping #News #Bitcoin ...</td>\n",
       "    </tr>\n",
       "    <tr>\n",
       "      <th>2023-07-24 01:00:00-01:00</th>\n",
       "      <td>THE Q NETWORK AND ITS COMMUNITY</td>\n",
       "    </tr>\n",
       "  </tbody>\n",
       "</table>\n",
       "</div>"
      ],
      "text/plain": [
       "                                                                        post\n",
       "date                                                                        \n",
       "2023-07-22 17:00:00-01:00  Quiet Ethereum Hits a Possible Bottom: What On...\n",
       "2023-07-22 18:00:00-01:00  Sarcophagus(Dead man-switch); a better option ...\n",
       "2023-07-22 19:00:00-01:00   Solana to Soar 870% After Ethereum’s Bull Run ,👀\n",
       "2023-07-22 20:00:00-01:00  Money Matters: The rise of digital currencies ...\n",
       "2023-07-22 21:00:00-01:00  Theory: GPU mining either lives or dies with R...\n",
       "2023-07-22 22:00:00-01:00  New Lido drop wich supported by Ethereum! We'r...\n",
       "2023-07-22 23:00:00-01:00                            buy cards with ethereum\n",
       "2023-07-23 00:00:00-01:00  Nano Faces Hate Despite Its Useful and Fully D...\n",
       "2023-07-23 01:00:00-01:00  Santiment Explains Why Ethereum Could Soon Ret...\n",
       "2023-07-23 02:00:00-01:00  how can I recover my cryptocurrency from scamm...\n",
       "2023-07-23 03:00:00-01:00                                   Ethereum Hackeer\n",
       "2023-07-23 04:00:00-01:00                              Ribbon finance gemini\n",
       "2023-07-23 05:00:00-01:00  Biking Exchange Daily News #Celsius Network #P...\n",
       "2023-07-23 06:00:00-01:00  Some tips you might need for trading on crypto...\n",
       "2023-07-23 07:00:00-01:00  Crorepati Lucky Draw Smart Contract Coming Soo...\n",
       "2023-07-23 08:00:00-01:00                            EVM vs all other chains\n",
       "2023-07-23 09:00:00-01:00  Why do crypto whales prefer DigiToads over Lit...\n",
       "2023-07-23 10:00:00-01:00  New Document for Ethereum (ETH) Units With $52...\n",
       "2023-07-23 11:00:00-01:00  With #PAWchain’s staking platform, you can ear...\n",
       "2023-07-23 12:00:00-01:00  Alphapo's Hot Wallet Breach: Cryptocurrency Pa...\n",
       "2023-07-23 13:00:00-01:00  Big Sell-Off Coming for Altcoins, but Ethereum...\n",
       "2023-07-23 14:00:00-01:00  Bitcoin and Ethereum experience losses as inte...\n",
       "2023-07-23 15:00:00-01:00  Polkadot is the Next Real Ethereum. No Stoppin...\n",
       "2023-07-23 16:00:00-01:00       Reminds me of the early days of Ethereum!!!!\n",
       "2023-07-23 17:00:00-01:00                         Current & Goal Investments\n",
       "2023-07-23 18:00:00-01:00  \"Unleashing $MCDEEZ: The Unexpected Meme Coin ...\n",
       "2023-07-23 19:00:00-01:00  I just received Unisocks NFT in my ledger wall...\n",
       "2023-07-23 20:00:00-01:00     Exploring the Potential of Account Abstraction\n",
       "2023-07-23 21:00:00-01:00  Looking to migrate your applications from Ethe...\n",
       "2023-07-23 22:00:00-01:00  Guess which project minted 1,000,000 Nfts in t...\n",
       "2023-07-23 23:00:00-01:00  Have you heard about the new drop from Lido? I...\n",
       "2023-07-24 00:00:00-01:00  Crypto while you were sleeping #News #Bitcoin ...\n",
       "2023-07-24 01:00:00-01:00                    THE Q NETWORK AND ITS COMMUNITY"
      ]
     },
     "execution_count": 176,
     "metadata": {},
     "output_type": "execute_result"
    }
   ],
   "source": [
    "# eth_reddit_data['date'] = pd.to_datetime(eth_reddit_data['date'])\n",
    "\n",
    "# eth_reddit_data.set_index('date', inplace=True)\n",
    "\n",
    "eth_reddit_data.resample('H').last()\n",
    "# eth_reddit_data.head(20)"
   ]
  },
  {
   "cell_type": "code",
   "execution_count": 179,
   "metadata": {},
   "outputs": [
    {
     "data": {
      "text/plain": [
       "66"
      ]
     },
     "execution_count": 179,
     "metadata": {},
     "output_type": "execute_result"
    }
   ],
   "source": []
  },
  {
   "cell_type": "code",
   "execution_count": 184,
   "metadata": {},
   "outputs": [
    {
     "data": {
      "text/plain": [
       "4"
      ]
     },
     "execution_count": 184,
     "metadata": {},
     "output_type": "execute_result"
    }
   ],
   "source": [
    "se = 'this is me no'\n",
    "len(se.split())"
   ]
  },
  {
   "cell_type": "code",
   "execution_count": 210,
   "metadata": {},
   "outputs": [],
   "source": [
    "# resampled = eth_reddit_data.resample('H').last()\n",
    "# resampled.reset_index(inplace=True)\n",
    "\n",
    "def dothis(x):\n",
    "    return (len(x.split()) * 5 / 16)\n",
    "\n",
    "eth_reddit_data['score'] = eth_reddit_data['post'].apply(lambda x: dothis(x))\n",
    "eth_reddit_data['sentiment'] = eth_reddit_data['score'].apply(lambda x: 1 if x>3 else (-1 if x < 3 else 0))"
   ]
  },
  {
   "cell_type": "code",
   "execution_count": 211,
   "metadata": {},
   "outputs": [
    {
     "data": {
      "text/html": [
       "<div>\n",
       "<style scoped>\n",
       "    .dataframe tbody tr th:only-of-type {\n",
       "        vertical-align: middle;\n",
       "    }\n",
       "\n",
       "    .dataframe tbody tr th {\n",
       "        vertical-align: top;\n",
       "    }\n",
       "\n",
       "    .dataframe thead th {\n",
       "        text-align: right;\n",
       "    }\n",
       "</style>\n",
       "<table border=\"1\" class=\"dataframe\">\n",
       "  <thead>\n",
       "    <tr style=\"text-align: right;\">\n",
       "      <th></th>\n",
       "      <th>post</th>\n",
       "      <th>score</th>\n",
       "      <th>sentiment</th>\n",
       "    </tr>\n",
       "    <tr>\n",
       "      <th>date</th>\n",
       "      <th></th>\n",
       "      <th></th>\n",
       "      <th></th>\n",
       "    </tr>\n",
       "  </thead>\n",
       "  <tbody>\n",
       "    <tr>\n",
       "      <th>2023-07-24 01:47:08-01:00</th>\n",
       "      <td>THE Q NETWORK AND ITS COMMUNITY</td>\n",
       "      <td>1.8750</td>\n",
       "      <td>-1</td>\n",
       "    </tr>\n",
       "    <tr>\n",
       "      <th>2023-07-24 01:44:27-01:00</th>\n",
       "      <td>Newton Referral Code - New users get a $25 sig...</td>\n",
       "      <td>4.6875</td>\n",
       "      <td>1</td>\n",
       "    </tr>\n",
       "    <tr>\n",
       "      <th>2023-07-24 01:20:43-01:00</th>\n",
       "      <td>Figment is hiring Principal DevOps Engineer, E...</td>\n",
       "      <td>5.6250</td>\n",
       "      <td>1</td>\n",
       "    </tr>\n",
       "    <tr>\n",
       "      <th>2023-07-24 01:01:42-01:00</th>\n",
       "      <td>r/AlgorandOfficial Weekly Recap: Jul 17 - Jul ...</td>\n",
       "      <td>2.8125</td>\n",
       "      <td>-1</td>\n",
       "    </tr>\n",
       "    <tr>\n",
       "      <th>2023-07-24 01:01:26-01:00</th>\n",
       "      <td>Unleashing the Power of INFRA Token: 5 Incredi...</td>\n",
       "      <td>4.0625</td>\n",
       "      <td>1</td>\n",
       "    </tr>\n",
       "    <tr>\n",
       "      <th>...</th>\n",
       "      <td>...</td>\n",
       "      <td>...</td>\n",
       "      <td>...</td>\n",
       "    </tr>\n",
       "    <tr>\n",
       "      <th>2023-07-22 18:02:16-01:00</th>\n",
       "      <td>What does this mean exactly? Ethereum (ERC-20)</td>\n",
       "      <td>2.1875</td>\n",
       "      <td>-1</td>\n",
       "    </tr>\n",
       "    <tr>\n",
       "      <th>2023-07-22 17:52:56-01:00</th>\n",
       "      <td>Quiet Ethereum Hits a Possible Bottom: What On...</td>\n",
       "      <td>3.1250</td>\n",
       "      <td>1</td>\n",
       "    </tr>\n",
       "    <tr>\n",
       "      <th>2023-07-22 17:48:53-01:00</th>\n",
       "      <td>AITAH for selling to fast</td>\n",
       "      <td>1.5625</td>\n",
       "      <td>-1</td>\n",
       "    </tr>\n",
       "    <tr>\n",
       "      <th>2023-07-22 17:48:42-01:00</th>\n",
       "      <td>AITAH for selling to fast</td>\n",
       "      <td>1.5625</td>\n",
       "      <td>-1</td>\n",
       "    </tr>\n",
       "    <tr>\n",
       "      <th>2023-07-22 17:47:43-01:00</th>\n",
       "      <td>AITAH for selling to fast</td>\n",
       "      <td>1.5625</td>\n",
       "      <td>-1</td>\n",
       "    </tr>\n",
       "  </tbody>\n",
       "</table>\n",
       "<p>5206 rows × 3 columns</p>\n",
       "</div>"
      ],
      "text/plain": [
       "                                                                        post  \\\n",
       "date                                                                           \n",
       "2023-07-24 01:47:08-01:00                    THE Q NETWORK AND ITS COMMUNITY   \n",
       "2023-07-24 01:44:27-01:00  Newton Referral Code - New users get a $25 sig...   \n",
       "2023-07-24 01:20:43-01:00  Figment is hiring Principal DevOps Engineer, E...   \n",
       "2023-07-24 01:01:42-01:00  r/AlgorandOfficial Weekly Recap: Jul 17 - Jul ...   \n",
       "2023-07-24 01:01:26-01:00  Unleashing the Power of INFRA Token: 5 Incredi...   \n",
       "...                                                                      ...   \n",
       "2023-07-22 18:02:16-01:00     What does this mean exactly? Ethereum (ERC-20)   \n",
       "2023-07-22 17:52:56-01:00  Quiet Ethereum Hits a Possible Bottom: What On...   \n",
       "2023-07-22 17:48:53-01:00                          AITAH for selling to fast   \n",
       "2023-07-22 17:48:42-01:00                          AITAH for selling to fast   \n",
       "2023-07-22 17:47:43-01:00                          AITAH for selling to fast   \n",
       "\n",
       "                            score  sentiment  \n",
       "date                                          \n",
       "2023-07-24 01:47:08-01:00  1.8750         -1  \n",
       "2023-07-24 01:44:27-01:00  4.6875          1  \n",
       "2023-07-24 01:20:43-01:00  5.6250          1  \n",
       "2023-07-24 01:01:42-01:00  2.8125         -1  \n",
       "2023-07-24 01:01:26-01:00  4.0625          1  \n",
       "...                           ...        ...  \n",
       "2023-07-22 18:02:16-01:00  2.1875         -1  \n",
       "2023-07-22 17:52:56-01:00  3.1250          1  \n",
       "2023-07-22 17:48:53-01:00  1.5625         -1  \n",
       "2023-07-22 17:48:42-01:00  1.5625         -1  \n",
       "2023-07-22 17:47:43-01:00  1.5625         -1  \n",
       "\n",
       "[5206 rows x 3 columns]"
      ]
     },
     "execution_count": 211,
     "metadata": {},
     "output_type": "execute_result"
    }
   ],
   "source": [
    "eth_reddit_data"
   ]
  },
  {
   "cell_type": "code",
   "execution_count": 215,
   "metadata": {},
   "outputs": [
    {
     "data": {
      "text/plain": [
       "<Axes: xlabel='date'>"
      ]
     },
     "execution_count": 215,
     "metadata": {},
     "output_type": "execute_result"
    },
    {
     "data": {
      "image/png": "[encoded data removed]",
      "text/plain": [
       "<Figure size 1000x600 with 1 Axes>"
      ]
     },
     "metadata": {},
     "output_type": "display_data"
    }
   ],
   "source": [
    "from matplotlib import pyplot as plt\n",
    "fig = plt.figure(figsize=(10,6))\n",
    "\n",
    "eth_reddit_data['score'].plot()\n",
    "eth_reddit_data['sentiment'].plot()\n"
   ]
  },
  {
   "cell_type": "code",
   "execution_count": 64,
   "metadata": {},
   "outputs": [
    {
     "data": {
      "text/plain": [
       "AITAH for selling too fast?                                                                                                                                           220\n",
       "Ethereum's Hidden Potential: These Indicators Point to a Looming Surge... I'm Long-Term 125.14 staked ETH and 22.55 cbETH (TOTAL STAKED ETH = 148.69 ETH). GLTA!!!    110\n",
       "Rose Road available for purchase on OpenSea                                                                                                                            88\n",
       "Ethereum Surges with Record Inflows to Centralized Exchanges, Tops $52.3 Billion in Staking Activity                                                                   80\n",
       "Elon Musk announced big news for crypto users                                                                                                                          66\n",
       "                                                                                                                                                                     ... \n",
       "30% Bitcoin 30% Ethereum 5% Matic 5% Uni 5% LINK 5% Aave 5% Tron 5% 2,5% Agix 2,5% Sdao 2,5% Polkadot 2,5% 2,5% Lido                                                   18\n",
       "Money Matters: The rise of digital currencies and understanding cryptocurrency (x-post from /r/Cryptocurrency)                                                         18\n",
       "What does this mean exactly? Ethereum (ERC-20)                                                                                                                         18\n",
       "Quiet Ethereum Hits a Possible Bottom: What On-Chain Data Reveals                                                                                                      18\n",
       "Latest Week in Ethereum News                                                                                                                                           18\n",
       "Name: post, Length: 203, dtype: int64"
      ]
     },
     "execution_count": 64,
     "metadata": {},
     "output_type": "execute_result"
    }
   ],
   "source": [
    "eth_reddit_data['post'].value_counts()"
   ]
  },
  {
   "cell_type": "code",
   "execution_count": 99,
   "metadata": {},
   "outputs": [],
   "source": [
    "post_list = []\n",
    "datetime_list = []\n",
    "\n",
    "reddit = dict()\n",
    "# for selector in driver.find_elements(By.XPATH, '//*[@id=\"AppRouter-main-content\"]//div[2]/div[4]/div[1]'):\n",
    "post = [post.text for post in driver.find_elements(By.XPATH, '//h3') if post.text != \"\" and driver.find_element(By.XPATH, '//div[3]//div[1]//div[1]/span[2]/span').text != 'promoted']\n",
    "datetime = [dt.text for dt in driver.find_elements(By.XPATH, '//*[@data-testid=\"post_timestamp\"]') if dt.text != \"\"]\n",
    "# post_list.extend(post)\n",
    "# datetime_list.extend(datetime)\n",
    "reddit[\"post\"] = post\n",
    "reddit[\"datetime\"] = datetime\n",
    "\n"
   ]
  },
  {
   "cell_type": "code",
   "execution_count": 100,
   "metadata": {},
   "outputs": [
    {
     "data": {
      "text/plain": [
       "{'post': ['There used to be a bot that prevented people from posting duplicate links, but now I see a lot of links posted more than once by different people. Did that bot stop working or something? See how this screenshot shows the same story posted 3 times, while the same link has been posted twice.',\n",
       "  'Wtf ?',\n",
       "  'Sam Bankman-Fried is paying his defense lawyers with $10 million of misappropriated FTX funds, lawsuit says',\n",
       "  'Look like a pro even if you’re a beginner. And if you’re already a pro, look…even more pro. Either way, you can easily build a professional website with Squarespace.',\n",
       "  'Ethereum rivals are ‘dead on arrival,’ says Cumberland’s Van Bourg',\n",
       "  'FTX Seeks to Recover $71M From Its Philanthropic Arm',\n",
       "  \"FTX's Sam Bankman-Fried Sued $1Bn\",\n",
       "  'DeFi Protocol Conic Finance Hacked for 1700 ETH',\n",
       "  'Justin Sun’s stUSDT dominates real-world asset DeFi as the sector doubles',\n",
       "  'What did Vitalik Buterin talk about during Ethereum Community Conference in Paris?',\n",
       "  'The retail world moves fast. Manage your business finances and balance your books even faster with QuickBooks. Streamline finances, track expenses, and import Zettle point-of-sale data automatically. Simplify your retail finances today.',\n",
       "  \"SBF's brother planned to buy an island nation with FTX funds to build apocalypse bunker\",\n",
       "  'Ethena Raises $6.5 Million to Develop an Ethereum-Based, Banking System Independent Stablecoin – Bitcoin News',\n",
       "  'Investors Are Finalizing to Buy CoinDesk for $125M: WSJ',\n",
       "  'Bankman-Fried using company funds for criminal defense, FTX says',\n",
       "  '3 months after the Shanghai fork, more ETH is being staked than being withdrawn. Nice!'],\n",
       " 'datetime': ['1 hour ago',\n",
       "  '2 hours ago',\n",
       "  '2 hours ago',\n",
       "  '5 hours ago',\n",
       "  '5 hours ago',\n",
       "  '5 hours ago',\n",
       "  '5 hours ago',\n",
       "  '6 hours ago',\n",
       "  '6 hours ago',\n",
       "  '6 hours ago',\n",
       "  '8 hours ago',\n",
       "  '9 hours ago',\n",
       "  '9 hours ago',\n",
       "  '10 hours ago']}"
      ]
     },
     "execution_count": 100,
     "metadata": {},
     "output_type": "execute_result"
    }
   ],
   "source": [
    "reddit"
   ]
  },
  {
   "cell_type": "code",
   "execution_count": 103,
   "metadata": {},
   "outputs": [
    {
     "data": {
      "text/plain": [
       "2"
      ]
     },
     "execution_count": 103,
     "metadata": {},
     "output_type": "execute_result"
    }
   ],
   "source": [
    "len(reddit.values())"
   ]
  },
  {
   "cell_type": "markdown",
   "metadata": {},
   "source": [
    "## Attention Mechanism"
   ]
  },
  {
   "cell_type": "code",
   "execution_count": 124,
   "metadata": {},
   "outputs": [],
   "source": [
    "import math\n",
    "\n",
    "L, d_k, d_v = 4, 8, 8\n",
    "\n",
    "Q = np.random.randn(L, d_k)\n",
    "K = np.random.randn(L, d_k)\n",
    "V = np.random.randn(L, d_k)"
   ]
  },
  {
   "cell_type": "code",
   "execution_count": 138,
   "metadata": {},
   "outputs": [
    {
     "data": {
      "text/plain": [
       "array([[  0., -inf, -inf, -inf],\n",
       "       [  0.,   0., -inf, -inf],\n",
       "       [  0.,   0.,   0., -inf],\n",
       "       [  0.,   0.,   0.,   0.]])"
      ]
     },
     "execution_count": 138,
     "metadata": {},
     "output_type": "execute_result"
    }
   ],
   "source": [
    "# masking: required on the decoder part of the network so to avoid next data leak while predicting.\n",
    "\n",
    "mask = np.tril(np.ones((4, 4)))\n",
    "mask[mask == 0] = -np.inf\n",
    "mask[mask == 1] = 0\n",
    "mask"
   ]
  },
  {
   "cell_type": "code",
   "execution_count": 130,
   "metadata": {},
   "outputs": [
    {
     "name": "stdout",
     "output_type": "stream",
     "text": [
      "Q\n",
      " [[-1.47438528  1.09797519  0.59137637  0.26588537 -0.22243095 -1.22119785\n",
      "   0.65492499 -0.81100081]\n",
      " [-1.93268981  0.97470505  0.71049473  1.39386818  1.12514923 -1.13331661\n",
      "  -1.58462164 -2.8913052 ]\n",
      " [ 0.13551959  0.45501999 -0.90894768  1.40465213 -0.11986317  0.61801399\n",
      "  -0.31601074  0.83216039]\n",
      " [-1.03079678 -0.7462571  -0.31090622  1.4952422   0.03059891  1.1234991\n",
      "  -0.74893077  0.85167409]]\n",
      "\n",
      "K\n",
      " [[-0.33758185 -0.13612053 -0.43429339  0.47220171  1.4811833   0.84777833\n",
      "  -1.34028059 -0.44507707]\n",
      " [ 0.93633881 -1.23821056 -0.12811214 -0.07278392  0.01545429 -0.31646845\n",
      "   1.29782545  0.51785363]\n",
      " [-1.35811037  0.4762057   0.54431666  2.71778376  0.32378714 -0.68386631\n",
      "  -0.0809747   0.07651498]\n",
      " [ 1.09053381  0.56826578 -0.80610249  1.14875414 -0.84466173  0.42195016\n",
      "   1.24137883 -2.43376338]]\n",
      "\n",
      "V\n",
      " [[ 0.32110211  1.24480375 -0.35917001 -0.57384278 -0.61081449 -0.24052915\n",
      "   0.30156174  0.72994098]\n",
      " [-1.01714328 -2.10842189  0.42782535  0.90179915  1.0172626   0.18422921\n",
      "   1.50644342 -1.05953864]\n",
      " [-1.16293327  0.47455589  1.13473336 -1.18811692  0.79183882 -0.24241406\n",
      "   0.40751912  1.1054112 ]\n",
      " [-0.11704767 -1.13798647  0.97555463 -0.2657882  -0.49570433  2.17680449\n",
      "   1.5406998   1.5987009 ]]\n"
     ]
    }
   ],
   "source": [
    "print(\"Q\\n\", Q)\n",
    "print()\n",
    "print(\"K\\n\", K)\n",
    "print()\n",
    "print(\"V\\n\", V)"
   ]
  },
  {
   "cell_type": "code",
   "execution_count": 140,
   "metadata": {},
   "outputs": [
    {
     "data": {
      "text/plain": [
       "array([[-0.20807525, -0.25276645,  0.52722308,  0.16302376],\n",
       "       [ 0.62322871, -0.79835058,  1.03879557,  0.38947145],\n",
       "       [ 0.16873871, -0.07486637,  0.37290381,  0.08713879],\n",
       "       [ 0.36414465, -0.12452105,  0.53830901, -0.26677104]])"
      ]
     },
     "execution_count": 140,
     "metadata": {},
     "output_type": "execute_result"
    }
   ],
   "source": [
    "scaled = np.matmul(Q, K.T)/math.sqrt(d_k**2) # using the dimension of Key vector as the scaler.\n",
    "scaled"
   ]
  },
  {
   "cell_type": "code",
   "execution_count": 141,
   "metadata": {},
   "outputs": [
    {
     "data": {
      "text/plain": [
       "array([[-0.20807525,        -inf,        -inf,        -inf],\n",
       "       [ 0.62322871, -0.79835058,        -inf,        -inf],\n",
       "       [ 0.16873871, -0.07486637,  0.37290381,        -inf],\n",
       "       [ 0.36414465, -0.12452105,  0.53830901, -0.26677104]])"
      ]
     },
     "execution_count": 141,
     "metadata": {},
     "output_type": "execute_result"
    }
   ],
   "source": [
    "scaled + mask"
   ]
  },
  {
   "cell_type": "code",
   "execution_count": 149,
   "metadata": {},
   "outputs": [],
   "source": [
    "def softmax(x):\n",
    "    return (np.exp(x).T / np.sum(np.exp(x), axis=-1)).T"
   ]
  },
  {
   "cell_type": "code",
   "execution_count": 144,
   "metadata": {},
   "outputs": [
    {
     "data": {
      "text/plain": [
       "array([[ 0.32110211,  1.24480375, -0.35917001, -0.57384278, -0.61081449,\n",
       "        -0.24052915,  0.30156174,  0.72994098],\n",
       "       [ 0.06092831,  0.59288934, -0.206167  , -0.28695715, -0.29429332,\n",
       "        -0.15795012,  0.53580775,  0.38204087],\n",
       "       [-0.6319874 ,  0.05789191,  0.45441002, -0.43990378,  0.38458116,\n",
       "        -0.13070196,  0.65844989,  0.41699038],\n",
       "       [-0.52440885, -0.02676498,  0.53150419, -0.47251749,  0.20742857,\n",
       "         0.22250696,  0.7586019 ,  0.67341139]])"
      ]
     },
     "execution_count": 144,
     "metadata": {},
     "output_type": "execute_result"
    }
   ],
   "source": [
    "attention = np.matmul(softmax(scaled + mask), V)\n",
    "attention"
   ]
  },
  {
   "cell_type": "code",
   "execution_count": 150,
   "metadata": {},
   "outputs": [
    {
     "data": {
      "text/plain": [
       "(array([[ 0.32110211,  1.24480375, -0.35917001, -0.57384278, -0.61081449,\n",
       "         -0.24052915,  0.30156174,  0.72994098],\n",
       "        [ 0.06092831,  0.59288934, -0.206167  , -0.28695715, -0.29429332,\n",
       "         -0.15795012,  0.53580775,  0.38204087],\n",
       "        [-0.6319874 ,  0.05789191,  0.45441002, -0.43990378,  0.38458116,\n",
       "         -0.13070196,  0.65844989,  0.41699038],\n",
       "        [-0.52440885, -0.02676498,  0.53150419, -0.47251749,  0.20742857,\n",
       "          0.22250696,  0.7586019 ,  0.67341139]]),\n",
       " array([[1.        , 0.        , 0.        , 0.        ],\n",
       "        [0.80558588, 0.19441412, 0.        , 0.        ],\n",
       "        [0.33219305, 0.26037196, 0.40743499, 0.        ],\n",
       "        [0.29977817, 0.18389723, 0.35681133, 0.15951327]]))"
      ]
     },
     "execution_count": 150,
     "metadata": {},
     "output_type": "execute_result"
    }
   ],
   "source": [
    "def softmax(x):\n",
    "    return (np.exp(x).T / np.sum(np.exp(x), axis=-1)).T\n",
    "\n",
    "\n",
    "def score_attention(q, k, v, mask=None):\n",
    "    d_k = q.shape[-1]\n",
    "    scaled = np.matmul(Q, K.T)/math.sqrt(d_k**2) # using the dimension of Key vector as the scaler.\n",
    "\n",
    "    if mask is not None:\n",
    "        scaled = scaled + mask\n",
    "    attention = softmax(scaled)\n",
    "    score = np.matmul(softmax(scaled), V)\n",
    "\n",
    "    return score, attention\n",
    "\n",
    "\n",
    "score_attention(Q, K, V, mask)"
   ]
  }
 ],
 "metadata": {
  "kernelspec": {
   "display_name": "base",
   "language": "python",
   "name": "python3"
  },
  "language_info": {
   "codemirror_mode": {
    "name": "ipython",
    "version": 3
   },
   "file_extension": ".py",
   "mimetype": "text/x-python",
   "name": "python",
   "nbconvert_exporter": "python",
   "pygments_lexer": "ipython3",
   "version": "3.9.13"
  },
  "orig_nbformat": 4
 },
 "nbformat": 4,
 "nbformat_minor": 2
}
