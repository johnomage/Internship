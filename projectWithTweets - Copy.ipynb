{
 "cells": [
  {
   "cell_type": "code",
   "execution_count": 1,
   "metadata": {},
   "outputs": [],
   "source": [
    "import pandas as pd\n",
    "import numpy as np\n",
    "from CryptoFinance import CryptoScraper as cs\n",
    "from time import sleep\n",
    "import math\n",
    "import matplotlib.pyplot as plt\n",
    "import seaborn as sns\n",
    "\n",
    "from datetime import datetime\n",
    "import re\n",
    "import warnings\n",
    "\n",
    "warnings.simplefilter('ignore')"
   ]
  },
  {
   "cell_type": "code",
   "execution_count": 2,
   "metadata": {},
   "outputs": [],
   "source": [
    "\n",
    "# chunks = pd.read_csv(r\"C:\\Users\\abume\\Downloads\\Bitcoin_tweets\\Bitcoin_tweets.csv\", chunksize=100000,lineterminator='\\n', index_col=0)\n",
    "# df = pd.concat(chunks)\n",
    "# df.head()"
   ]
  },
  {
   "cell_type": "code",
   "execution_count": 2,
   "metadata": {},
   "outputs": [
    {
     "data": {
      "text/html": [
       "<div>\n",
       "<style scoped>\n",
       "    .dataframe tbody tr th:only-of-type {\n",
       "        vertical-align: middle;\n",
       "    }\n",
       "\n",
       "    .dataframe tbody tr th {\n",
       "        vertical-align: top;\n",
       "    }\n",
       "\n",
       "    .dataframe thead th {\n",
       "        text-align: right;\n",
       "    }\n",
       "</style>\n",
       "<table border=\"1\" class=\"dataframe\">\n",
       "  <thead>\n",
       "    <tr style=\"text-align: right;\">\n",
       "      <th></th>\n",
       "      <th>date</th>\n",
       "      <th>text</th>\n",
       "    </tr>\n",
       "    <tr>\n",
       "      <th>user_name</th>\n",
       "      <th></th>\n",
       "      <th></th>\n",
       "    </tr>\n",
       "  </thead>\n",
       "  <tbody>\n",
       "    <tr>\n",
       "      <th>DeSota Wilson</th>\n",
       "      <td>2021-02-10 23:59:04</td>\n",
       "      <td>Blue Ridge Bank shares halted by NYSE after #b...</td>\n",
       "    </tr>\n",
       "    <tr>\n",
       "      <th>CryptoND</th>\n",
       "      <td>2021-02-10 23:58:48</td>\n",
       "      <td>😎 Today, that's this #Thursday, we will do a \"...</td>\n",
       "    </tr>\n",
       "    <tr>\n",
       "      <th>Tdlmatias</th>\n",
       "      <td>2021-02-10 23:54:48</td>\n",
       "      <td>Guys evening, I have read this article about B...</td>\n",
       "    </tr>\n",
       "    <tr>\n",
       "      <th>Crypto is the future</th>\n",
       "      <td>2021-02-10 23:54:33</td>\n",
       "      <td>$BTC A big chance in a billion! Price: \\487264...</td>\n",
       "    </tr>\n",
       "    <tr>\n",
       "      <th>Alex Kirchmaier 🇦🇹🇸🇪 #FactsSuperspreader</th>\n",
       "      <td>2021-02-10 23:54:06</td>\n",
       "      <td>This network is secured by 9 508 nodes as of t...</td>\n",
       "    </tr>\n",
       "  </tbody>\n",
       "</table>\n",
       "</div>"
      ],
      "text/plain": [
       "                                                        date  \\\n",
       "user_name                                                      \n",
       "DeSota Wilson                            2021-02-10 23:59:04   \n",
       "CryptoND                                 2021-02-10 23:58:48   \n",
       "Tdlmatias                                2021-02-10 23:54:48   \n",
       "Crypto is the future                     2021-02-10 23:54:33   \n",
       "Alex Kirchmaier 🇦🇹🇸🇪 #FactsSuperspreader 2021-02-10 23:54:06   \n",
       "\n",
       "                                                                                       text  \n",
       "user_name                                                                                    \n",
       "DeSota Wilson                             Blue Ridge Bank shares halted by NYSE after #b...  \n",
       "CryptoND                                  😎 Today, that's this #Thursday, we will do a \"...  \n",
       "Tdlmatias                                 Guys evening, I have read this article about B...  \n",
       "Crypto is the future                      $BTC A big chance in a billion! Price: \\487264...  \n",
       "Alex Kirchmaier 🇦🇹🇸🇪 #FactsSuperspreader  This network is secured by 9 508 nodes as of t...  "
      ]
     },
     "execution_count": 2,
     "metadata": {},
     "output_type": "execute_result"
    }
   ],
   "source": [
    "raw_df = pd.read_parquet(r\"C:\\Users\\abume\\Downloads\\Bitcoin_tweets\\tweeets_text_date.parquet\")\n",
    "raw_df.head()"
   ]
  },
  {
   "cell_type": "code",
   "execution_count": 3,
   "metadata": {},
   "outputs": [
    {
     "data": {
      "text/html": [
       "<div>\n",
       "<style scoped>\n",
       "    .dataframe tbody tr th:only-of-type {\n",
       "        vertical-align: middle;\n",
       "    }\n",
       "\n",
       "    .dataframe tbody tr th {\n",
       "        vertical-align: top;\n",
       "    }\n",
       "\n",
       "    .dataframe thead th {\n",
       "        text-align: right;\n",
       "    }\n",
       "</style>\n",
       "<table border=\"1\" class=\"dataframe\">\n",
       "  <thead>\n",
       "    <tr style=\"text-align: right;\">\n",
       "      <th></th>\n",
       "      <th>text</th>\n",
       "    </tr>\n",
       "    <tr>\n",
       "      <th>date</th>\n",
       "      <th></th>\n",
       "    </tr>\n",
       "  </thead>\n",
       "  <tbody>\n",
       "    <tr>\n",
       "      <th>2021-02-10 23:59:04</th>\n",
       "      <td>Blue Ridge Bank shares halted by NYSE after #b...</td>\n",
       "    </tr>\n",
       "    <tr>\n",
       "      <th>2021-02-10 23:58:48</th>\n",
       "      <td>😎 Today, that's this #Thursday, we will do a \"...</td>\n",
       "    </tr>\n",
       "    <tr>\n",
       "      <th>2021-02-10 23:54:48</th>\n",
       "      <td>Guys evening, I have read this article about B...</td>\n",
       "    </tr>\n",
       "    <tr>\n",
       "      <th>2021-02-10 23:54:33</th>\n",
       "      <td>$BTC A big chance in a billion! Price: \\487264...</td>\n",
       "    </tr>\n",
       "    <tr>\n",
       "      <th>2021-02-10 23:54:06</th>\n",
       "      <td>This network is secured by 9 508 nodes as of t...</td>\n",
       "    </tr>\n",
       "  </tbody>\n",
       "</table>\n",
       "</div>"
      ],
      "text/plain": [
       "                                                                  text\n",
       "date                                                                  \n",
       "2021-02-10 23:59:04  Blue Ridge Bank shares halted by NYSE after #b...\n",
       "2021-02-10 23:58:48  😎 Today, that's this #Thursday, we will do a \"...\n",
       "2021-02-10 23:54:48  Guys evening, I have read this article about B...\n",
       "2021-02-10 23:54:33  $BTC A big chance in a billion! Price: \\487264...\n",
       "2021-02-10 23:54:06  This network is secured by 9 508 nodes as of t..."
      ]
     },
     "execution_count": 3,
     "metadata": {},
     "output_type": "execute_result"
    }
   ],
   "source": [
    "# df.drop(df[df['user_followers'] == ' Laptops and more.\"'].index, inplace=True)\n",
    "# df.reset_index(inplace=True)\n",
    "\n",
    "tweets = raw_df.copy() #df[['date', 'text']]\n",
    "tweets.set_index('date', inplace=True)\n",
    "tweets.head()"
   ]
  },
  {
   "cell_type": "code",
   "execution_count": 4,
   "metadata": {},
   "outputs": [
    {
     "data": {
      "text/plain": [
       "(337703, 1)"
      ]
     },
     "execution_count": 4,
     "metadata": {},
     "output_type": "execute_result"
    }
   ],
   "source": [
    "tweets_resampled = tweets.resample('3T').last()\n",
    "tweets_resampled.shape"
   ]
  },
  {
   "cell_type": "code",
   "execution_count": 5,
   "metadata": {},
   "outputs": [
    {
     "data": {
      "text/html": [
       "<div>\n",
       "<style scoped>\n",
       "    .dataframe tbody tr th:only-of-type {\n",
       "        vertical-align: middle;\n",
       "    }\n",
       "\n",
       "    .dataframe tbody tr th {\n",
       "        vertical-align: top;\n",
       "    }\n",
       "\n",
       "    .dataframe thead th {\n",
       "        text-align: right;\n",
       "    }\n",
       "</style>\n",
       "<table border=\"1\" class=\"dataframe\">\n",
       "  <thead>\n",
       "    <tr style=\"text-align: right;\">\n",
       "      <th></th>\n",
       "      <th>text</th>\n",
       "    </tr>\n",
       "    <tr>\n",
       "      <th>date</th>\n",
       "      <th></th>\n",
       "    </tr>\n",
       "  </thead>\n",
       "  <tbody>\n",
       "    <tr>\n",
       "      <th>2021-02-05 10:51:00</th>\n",
       "      <td>#Bitcoin and #ETH both have bullish setups for...</td>\n",
       "    </tr>\n",
       "    <tr>\n",
       "      <th>2021-02-05 10:54:00</th>\n",
       "      <td>$PERL 0.06.\\nI have insisted that since 0.02 i...</td>\n",
       "    </tr>\n",
       "    <tr>\n",
       "      <th>2021-02-05 10:57:00</th>\n",
       "      <td>#Bitcoin braces for $48,000 as inverse head-an...</td>\n",
       "    </tr>\n",
       "    <tr>\n",
       "      <th>2021-02-05 11:00:00</th>\n",
       "      <td>1 BTC Price: Bitstamp 37475.23 USD Coinbase  U...</td>\n",
       "    </tr>\n",
       "    <tr>\n",
       "      <th>2021-02-05 11:03:00</th>\n",
       "      <td>We are gaining pace with more and more institu...</td>\n",
       "    </tr>\n",
       "  </tbody>\n",
       "</table>\n",
       "</div>"
      ],
      "text/plain": [
       "                                                                  text\n",
       "date                                                                  \n",
       "2021-02-05 10:51:00  #Bitcoin and #ETH both have bullish setups for...\n",
       "2021-02-05 10:54:00  $PERL 0.06.\\nI have insisted that since 0.02 i...\n",
       "2021-02-05 10:57:00  #Bitcoin braces for $48,000 as inverse head-an...\n",
       "2021-02-05 11:00:00  1 BTC Price: Bitstamp 37475.23 USD Coinbase  U...\n",
       "2021-02-05 11:03:00  We are gaining pace with more and more institu..."
      ]
     },
     "execution_count": 5,
     "metadata": {},
     "output_type": "execute_result"
    }
   ],
   "source": [
    "tweets_resampled.head()"
   ]
  },
  {
   "cell_type": "markdown",
   "metadata": {},
   "source": [
    "No missing values in tweets dataframe."
   ]
  },
  {
   "cell_type": "code",
   "execution_count": null,
   "metadata": {},
   "outputs": [],
   "source": [
    "# create hashes as tweet ids using md5\n",
    "from hashlib import md5\n",
    "hash = md5()\n",
    "\n",
    "def hash_value(x):\n",
    "    hash.update(x.encode())\n",
    "    return hash.hexdigest()"
   ]
  },
  {
   "cell_type": "markdown",
   "metadata": {},
   "source": [
    "Next, convert the datetime strinng to datetime object"
   ]
  },
  {
   "cell_type": "code",
   "execution_count": null,
   "metadata": {},
   "outputs": [],
   "source": [
    "\n",
    "try:\n",
    "    tweets.index = pd.to_datetime(tweets.index, errors='coerce')\n",
    "except (pd.errors.ParserError, ValueError):\n",
    "    pass\n",
    "\n",
    "tweets.dropna(subset=tweets.index, inplace=True)\n"
   ]
  },
  {
   "cell_type": "code",
   "execution_count": 6,
   "metadata": {},
   "outputs": [],
   "source": [
    "tweets.index = pd.to_datetime(tweets.index)"
   ]
  },
  {
   "cell_type": "code",
   "execution_count": 7,
   "metadata": {},
   "outputs": [
    {
     "data": {
      "text/plain": [
       "DatetimeIndex(['2021-02-10 23:59:04', '2021-02-10 23:58:48',\n",
       "               '2021-02-10 23:54:48', '2021-02-10 23:54:33',\n",
       "               '2021-02-10 23:54:06', '2021-02-10 23:53:30',\n",
       "               '2021-02-10 23:53:17', '2021-02-10 23:52:42',\n",
       "               '2021-02-10 23:52:25', '2021-02-10 23:52:08',\n",
       "               ...\n",
       "               '2023-01-06 17:46:53', '2023-01-06 17:46:50',\n",
       "               '2023-01-06 17:46:50', '2023-01-06 17:46:44',\n",
       "               '2023-01-06 17:46:36', '2023-01-06 17:46:35',\n",
       "               '2023-01-06 17:46:29', '2023-01-06 17:46:22',\n",
       "               '2023-01-06 17:46:20', '2023-01-06 17:46:17'],\n",
       "              dtype='datetime64[ns]', name='date', length=4689288, freq=None)"
      ]
     },
     "execution_count": 7,
     "metadata": {},
     "output_type": "execute_result"
    }
   ],
   "source": [
    "tweets.index"
   ]
  },
  {
   "cell_type": "code",
   "execution_count": null,
   "metadata": {},
   "outputs": [],
   "source": [
    "# def clean_text(text):\n",
    "#     # # remove punctuations\n",
    "#     # text = \"\".join([char for char in text if char not in string.punctuation]).lower()\n",
    "#     # # text to lowercase\n",
    "#     # text = text.split()\n",
    "#     # # lematize each word in text and return a list of lematized words\n",
    "#     # return [wnl.lemmatize(word) for word in text if word not in stopwords_list]\n",
    "#     wnl = WordNetLemmatizer()\n",
    "#     text = re.sub(r\"#\\w+\\s*\", \"\", str(text))\n",
    "    \n",
    "#     # remove punctuations\n",
    "#     text = \"\".join([char for char in text if char not in string.punctuation]).lower()\n",
    "#     # tokenize\n",
    "#     tokens = re.split('\\W+', text)\n",
    "#     # remove stopwords, lematize and return\n",
    "#     return \" \".join([wnl.lemmatize(word).strip() for word in tokens if word not in stopwords.words('english')])"
   ]
  },
  {
   "cell_type": "code",
   "execution_count": null,
   "metadata": {},
   "outputs": [],
   "source": [
    "# sample.reset_index(drop=True, inplace=True)\n",
    "# sample['clean'] = sample['text'][:10000].apply(lambda x: clean_text(x))"
   ]
  },
  {
   "cell_type": "code",
   "execution_count": 8,
   "metadata": {},
   "outputs": [],
   "source": [
    "import warnings\n",
    "warnings.simplefilter('ignore')"
   ]
  },
  {
   "cell_type": "markdown",
   "metadata": {},
   "source": [
    "Sentiment Analysis with roBERTa"
   ]
  },
  {
   "cell_type": "code",
   "execution_count": 24,
   "metadata": {},
   "outputs": [],
   "source": [
    "# import torch\n",
    "# from torch.nn.functional import softmax\n",
    "# from transformers import AutoModelForSequenceClassification, AutoTokenizer\n",
    "\n",
    "# model_id = \"cardiffnlp/twitter-roberta-base-sentiment-latest\" #'cardiffnlp/twitter-roberta-base-sentiment'\n",
    "\n",
    "# tokenizer = AutoTokenizer.from_pretrained(model_id)\n",
    "# model = AutoModelForSequenceClassification.from_pretrained(model_id)\n",
    "\n",
    "# def get_sentiment(text):\n",
    "#     # Tokenize and encode the text\n",
    "#     encoded_input = tokenizer(text, return_tensors=\"pt\", padding=True, max_length=412, truncation=True)\n",
    "\n",
    "#     # Get the sentiment prediction from the model\n",
    "#     outputs = model(**encoded_input)\n",
    "#     prediction_scores = outputs.logits  # prediction scores for sentiment classes\n",
    "#     scores = softmax(prediction_scores)\n",
    " \n",
    "#     # Get the predicted sentiment class (index of the highest score)\n",
    "#     sentiment = prediction_scores.argmax(axis=1).detach().numpy()  # and convert to NumPy array\n",
    "#     return sentiment[0]"
   ]
  },
  {
   "cell_type": "markdown",
   "metadata": {},
   "source": [
    "Run sentiment analysis"
   ]
  },
  {
   "cell_type": "code",
   "execution_count": 180,
   "metadata": {},
   "outputs": [],
   "source": [
    "# tweets_resampled['sentiment'] = tweets_resampled['text'].apply(lambda x: get_sentiment(str(x)))"
   ]
  },
  {
   "cell_type": "markdown",
   "metadata": {},
   "source": [
    "Save result of SA"
   ]
  },
  {
   "cell_type": "code",
   "execution_count": 5,
   "metadata": {},
   "outputs": [
    {
     "data": {
      "text/html": [
       "<div>\n",
       "<style scoped>\n",
       "    .dataframe tbody tr th:only-of-type {\n",
       "        vertical-align: middle;\n",
       "    }\n",
       "\n",
       "    .dataframe tbody tr th {\n",
       "        vertical-align: top;\n",
       "    }\n",
       "\n",
       "    .dataframe thead th {\n",
       "        text-align: right;\n",
       "    }\n",
       "</style>\n",
       "<table border=\"1\" class=\"dataframe\">\n",
       "  <thead>\n",
       "    <tr style=\"text-align: right;\">\n",
       "      <th></th>\n",
       "      <th>text</th>\n",
       "      <th>sentiment</th>\n",
       "    </tr>\n",
       "    <tr>\n",
       "      <th>date</th>\n",
       "      <th></th>\n",
       "      <th></th>\n",
       "    </tr>\n",
       "  </thead>\n",
       "  <tbody>\n",
       "    <tr>\n",
       "      <th>2021-02-05 10:51:00+00:00</th>\n",
       "      <td>#Bitcoin and #ETH both have bullish setups for...</td>\n",
       "      <td>2</td>\n",
       "    </tr>\n",
       "    <tr>\n",
       "      <th>2021-02-05 10:54:00+00:00</th>\n",
       "      <td>$PERL 0.06.\\nI have insisted that since 0.02 i...</td>\n",
       "      <td>2</td>\n",
       "    </tr>\n",
       "    <tr>\n",
       "      <th>2021-02-05 10:57:00+00:00</th>\n",
       "      <td>#Bitcoin braces for $48,000 as inverse head-an...</td>\n",
       "      <td>1</td>\n",
       "    </tr>\n",
       "    <tr>\n",
       "      <th>2021-02-05 11:00:00+00:00</th>\n",
       "      <td>1 BTC Price: Bitstamp 37475.23 USD Coinbase  U...</td>\n",
       "      <td>1</td>\n",
       "    </tr>\n",
       "    <tr>\n",
       "      <th>2021-02-05 11:03:00+00:00</th>\n",
       "      <td>We are gaining pace with more and more institu...</td>\n",
       "      <td>2</td>\n",
       "    </tr>\n",
       "  </tbody>\n",
       "</table>\n",
       "</div>"
      ],
      "text/plain": [
       "                                                                        text  \\\n",
       "date                                                                           \n",
       "2021-02-05 10:51:00+00:00  #Bitcoin and #ETH both have bullish setups for...   \n",
       "2021-02-05 10:54:00+00:00  $PERL 0.06.\\nI have insisted that since 0.02 i...   \n",
       "2021-02-05 10:57:00+00:00  #Bitcoin braces for $48,000 as inverse head-an...   \n",
       "2021-02-05 11:00:00+00:00  1 BTC Price: Bitstamp 37475.23 USD Coinbase  U...   \n",
       "2021-02-05 11:03:00+00:00  We are gaining pace with more and more institu...   \n",
       "\n",
       "                           sentiment  \n",
       "date                                  \n",
       "2021-02-05 10:51:00+00:00          2  \n",
       "2021-02-05 10:54:00+00:00          2  \n",
       "2021-02-05 10:57:00+00:00          1  \n",
       "2021-02-05 11:00:00+00:00          1  \n",
       "2021-02-05 11:03:00+00:00          2  "
      ]
     },
     "execution_count": 5,
     "metadata": {},
     "output_type": "execute_result"
    }
   ],
   "source": [
    "# tweets_resampled.to_parquet(r\"C:\\Users\\abume\\Downloads\\Bitcoin_tweets\\tweeets_text_sentiment.parquet\", engine='fastparquet')\n",
    "tweets_sentiment = pd.read_parquet(r\"C:\\Users\\abume\\Downloads\\Bitcoin_tweets\\tweeets_text_sentiment.parquet\")\n",
    "tweets_sentiment.index = tweets_sentiment.index.tz_localize('UTC')\n",
    "tweets_sentiment.head()"
   ]
  },
  {
   "cell_type": "markdown",
   "metadata": {},
   "source": [
    "Resample sentiments by Hour, using the most common sentiment in the hour as the sentiment"
   ]
  },
  {
   "cell_type": "code",
   "execution_count": 26,
   "metadata": {},
   "outputs": [],
   "source": [
    "def most_common_sentiment(series):\n",
    "    return series.mode()[0]\n",
    "\n",
    "sentiment = tweets_sentiment[\"sentiment\"]\n",
    "\n",
    "# mode = pd.Series.mode()\n",
    "\n",
    "sentiment = sentiment.resample('60T').apply(most_common_sentiment)"
   ]
  },
  {
   "cell_type": "code",
   "execution_count": 28,
   "metadata": {},
   "outputs": [
    {
     "data": {
      "text/plain": [
       "1    15582\n",
       "2     1294\n",
       "0       10\n",
       "Name: sentiment, dtype: int64"
      ]
     },
     "execution_count": 28,
     "metadata": {},
     "output_type": "execute_result"
    }
   ],
   "source": [
    "sentiment.value_counts()"
   ]
  },
  {
   "cell_type": "markdown",
   "metadata": {},
   "source": [
    "<!--  -->"
   ]
  },
  {
   "cell_type": "markdown",
   "metadata": {},
   "source": [
    "<b>Now let's retrieve the bitcoin data from the database via the CryptoAppScrapper app</b>\n",
    "\n",
    "A period of 730 days with a frequency of 1 hour is used."
   ]
  },
  {
   "cell_type": "code",
   "execution_count": 8,
   "metadata": {},
   "outputs": [
    {
     "data": {
      "text/html": [
       "<div>\n",
       "<style scoped>\n",
       "    .dataframe tbody tr th:only-of-type {\n",
       "        vertical-align: middle;\n",
       "    }\n",
       "\n",
       "    .dataframe tbody tr th {\n",
       "        vertical-align: top;\n",
       "    }\n",
       "\n",
       "    .dataframe thead th {\n",
       "        text-align: right;\n",
       "    }\n",
       "</style>\n",
       "<table border=\"1\" class=\"dataframe\">\n",
       "  <thead>\n",
       "    <tr style=\"text-align: right;\">\n",
       "      <th></th>\n",
       "      <th>_id</th>\n",
       "      <th>Open</th>\n",
       "      <th>High</th>\n",
       "      <th>Low</th>\n",
       "      <th>Close</th>\n",
       "      <th>Volume</th>\n",
       "      <th>Dividends</th>\n",
       "      <th>Stock Splits</th>\n",
       "    </tr>\n",
       "  </thead>\n",
       "  <tbody>\n",
       "    <tr>\n",
       "      <th>0</th>\n",
       "      <td>2021-08-03 00:00:00+00:00</td>\n",
       "      <td>28204.455078</td>\n",
       "      <td>28602.572266</td>\n",
       "      <td>27945.894531</td>\n",
       "      <td>28327.294922</td>\n",
       "      <td>0.0</td>\n",
       "      <td>0.0</td>\n",
       "      <td>0.0</td>\n",
       "    </tr>\n",
       "    <tr>\n",
       "      <th>1</th>\n",
       "      <td>2021-08-03 01:00:00+00:00</td>\n",
       "      <td>28326.119141</td>\n",
       "      <td>28326.119141</td>\n",
       "      <td>27973.533203</td>\n",
       "      <td>27973.533203</td>\n",
       "      <td>0.0</td>\n",
       "      <td>0.0</td>\n",
       "      <td>0.0</td>\n",
       "    </tr>\n",
       "    <tr>\n",
       "      <th>2</th>\n",
       "      <td>2021-08-03 02:00:00+00:00</td>\n",
       "      <td>27974.931641</td>\n",
       "      <td>28125.648438</td>\n",
       "      <td>27919.728516</td>\n",
       "      <td>28064.576172</td>\n",
       "      <td>0.0</td>\n",
       "      <td>0.0</td>\n",
       "      <td>0.0</td>\n",
       "    </tr>\n",
       "    <tr>\n",
       "      <th>3</th>\n",
       "      <td>2021-08-03 03:00:00+00:00</td>\n",
       "      <td>28064.537109</td>\n",
       "      <td>28067.361328</td>\n",
       "      <td>27771.798828</td>\n",
       "      <td>27840.082031</td>\n",
       "      <td>87914496.0</td>\n",
       "      <td>0.0</td>\n",
       "      <td>0.0</td>\n",
       "    </tr>\n",
       "    <tr>\n",
       "      <th>4</th>\n",
       "      <td>2021-08-03 04:00:00+00:00</td>\n",
       "      <td>27833.152344</td>\n",
       "      <td>27925.753906</td>\n",
       "      <td>27577.039062</td>\n",
       "      <td>27577.039062</td>\n",
       "      <td>96643072.0</td>\n",
       "      <td>0.0</td>\n",
       "      <td>0.0</td>\n",
       "    </tr>\n",
       "  </tbody>\n",
       "</table>\n",
       "</div>"
      ],
      "text/plain": [
       "                         _id          Open          High           Low  \\\n",
       "0  2021-08-03 00:00:00+00:00  28204.455078  28602.572266  27945.894531   \n",
       "1  2021-08-03 01:00:00+00:00  28326.119141  28326.119141  27973.533203   \n",
       "2  2021-08-03 02:00:00+00:00  27974.931641  28125.648438  27919.728516   \n",
       "3  2021-08-03 03:00:00+00:00  28064.537109  28067.361328  27771.798828   \n",
       "4  2021-08-03 04:00:00+00:00  27833.152344  27925.753906  27577.039062   \n",
       "\n",
       "          Close      Volume  Dividends  Stock Splits  \n",
       "0  28327.294922         0.0        0.0           0.0  \n",
       "1  27973.533203         0.0        0.0           0.0  \n",
       "2  28064.576172         0.0        0.0           0.0  \n",
       "3  27840.082031  87914496.0        0.0           0.0  \n",
       "4  27577.039062  96643072.0        0.0           0.0  "
      ]
     },
     "execution_count": 8,
     "metadata": {},
     "output_type": "execute_result"
    }
   ],
   "source": [
    "cache_explorer = cs.CacheExplorer(currency='BTC', period='730d')\n",
    "df = cache_explorer.get_currency_history()\n",
    "df.head()"
   ]
  },
  {
   "cell_type": "code",
   "execution_count": 9,
   "metadata": {},
   "outputs": [
    {
     "data": {
      "text/html": [
       "<div>\n",
       "<style scoped>\n",
       "    .dataframe tbody tr th:only-of-type {\n",
       "        vertical-align: middle;\n",
       "    }\n",
       "\n",
       "    .dataframe tbody tr th {\n",
       "        vertical-align: top;\n",
       "    }\n",
       "\n",
       "    .dataframe thead th {\n",
       "        text-align: right;\n",
       "    }\n",
       "</style>\n",
       "<table border=\"1\" class=\"dataframe\">\n",
       "  <thead>\n",
       "    <tr style=\"text-align: right;\">\n",
       "      <th></th>\n",
       "      <th>Open</th>\n",
       "      <th>High</th>\n",
       "      <th>Low</th>\n",
       "      <th>Close</th>\n",
       "    </tr>\n",
       "    <tr>\n",
       "      <th>datetime</th>\n",
       "      <th></th>\n",
       "      <th></th>\n",
       "      <th></th>\n",
       "      <th></th>\n",
       "    </tr>\n",
       "  </thead>\n",
       "  <tbody>\n",
       "    <tr>\n",
       "      <th>2021-08-03 00:00:00+00:00</th>\n",
       "      <td>28204.455078</td>\n",
       "      <td>28602.572266</td>\n",
       "      <td>27945.894531</td>\n",
       "      <td>28327.294922</td>\n",
       "    </tr>\n",
       "    <tr>\n",
       "      <th>2021-08-03 01:00:00+00:00</th>\n",
       "      <td>28326.119141</td>\n",
       "      <td>28326.119141</td>\n",
       "      <td>27973.533203</td>\n",
       "      <td>27973.533203</td>\n",
       "    </tr>\n",
       "    <tr>\n",
       "      <th>2021-08-03 02:00:00+00:00</th>\n",
       "      <td>27974.931641</td>\n",
       "      <td>28125.648438</td>\n",
       "      <td>27919.728516</td>\n",
       "      <td>28064.576172</td>\n",
       "    </tr>\n",
       "    <tr>\n",
       "      <th>2021-08-03 03:00:00+00:00</th>\n",
       "      <td>28064.537109</td>\n",
       "      <td>28067.361328</td>\n",
       "      <td>27771.798828</td>\n",
       "      <td>27840.082031</td>\n",
       "    </tr>\n",
       "    <tr>\n",
       "      <th>2021-08-03 04:00:00+00:00</th>\n",
       "      <td>27833.152344</td>\n",
       "      <td>27925.753906</td>\n",
       "      <td>27577.039062</td>\n",
       "      <td>27577.039062</td>\n",
       "    </tr>\n",
       "  </tbody>\n",
       "</table>\n",
       "</div>"
      ],
      "text/plain": [
       "                                   Open          High           Low  \\\n",
       "datetime                                                              \n",
       "2021-08-03 00:00:00+00:00  28204.455078  28602.572266  27945.894531   \n",
       "2021-08-03 01:00:00+00:00  28326.119141  28326.119141  27973.533203   \n",
       "2021-08-03 02:00:00+00:00  27974.931641  28125.648438  27919.728516   \n",
       "2021-08-03 03:00:00+00:00  28064.537109  28067.361328  27771.798828   \n",
       "2021-08-03 04:00:00+00:00  27833.152344  27925.753906  27577.039062   \n",
       "\n",
       "                                  Close  \n",
       "datetime                                 \n",
       "2021-08-03 00:00:00+00:00  28327.294922  \n",
       "2021-08-03 01:00:00+00:00  27973.533203  \n",
       "2021-08-03 02:00:00+00:00  28064.576172  \n",
       "2021-08-03 03:00:00+00:00  27840.082031  \n",
       "2021-08-03 04:00:00+00:00  27577.039062  "
      ]
     },
     "execution_count": 9,
     "metadata": {},
     "output_type": "execute_result"
    }
   ],
   "source": [
    "df['datetime'] = df['_id']\n",
    "df.set_index(df['datetime'], inplace=True)\n",
    "df.index = pd.to_datetime(df.index, infer_datetime_format=True)\n",
    "df.head()\n",
    "\n",
    "\n",
    "btc = df[['Open', 'High', 'Low', 'Close']]\n",
    "btc.head()"
   ]
  },
  {
   "cell_type": "code",
   "execution_count": null,
   "metadata": {},
   "outputs": [],
   "source": []
  },
  {
   "cell_type": "code",
   "execution_count": 29,
   "metadata": {},
   "outputs": [
    {
     "data": {
      "text/html": [
       "<div>\n",
       "<style scoped>\n",
       "    .dataframe tbody tr th:only-of-type {\n",
       "        vertical-align: middle;\n",
       "    }\n",
       "\n",
       "    .dataframe tbody tr th {\n",
       "        vertical-align: top;\n",
       "    }\n",
       "\n",
       "    .dataframe thead th {\n",
       "        text-align: right;\n",
       "    }\n",
       "</style>\n",
       "<table border=\"1\" class=\"dataframe\">\n",
       "  <thead>\n",
       "    <tr style=\"text-align: right;\">\n",
       "      <th></th>\n",
       "      <th>Open</th>\n",
       "      <th>High</th>\n",
       "      <th>Low</th>\n",
       "      <th>Close</th>\n",
       "      <th>sentiment</th>\n",
       "    </tr>\n",
       "    <tr>\n",
       "      <th>datetime</th>\n",
       "      <th></th>\n",
       "      <th></th>\n",
       "      <th></th>\n",
       "      <th></th>\n",
       "      <th></th>\n",
       "    </tr>\n",
       "  </thead>\n",
       "  <tbody>\n",
       "    <tr>\n",
       "      <th>2021-08-03 00:00:00+00:00</th>\n",
       "      <td>28204.455078</td>\n",
       "      <td>28602.572266</td>\n",
       "      <td>27945.894531</td>\n",
       "      <td>28327.294922</td>\n",
       "      <td>1.0</td>\n",
       "    </tr>\n",
       "    <tr>\n",
       "      <th>2021-08-03 01:00:00+00:00</th>\n",
       "      <td>28326.119141</td>\n",
       "      <td>28326.119141</td>\n",
       "      <td>27973.533203</td>\n",
       "      <td>27973.533203</td>\n",
       "      <td>1.0</td>\n",
       "    </tr>\n",
       "    <tr>\n",
       "      <th>2021-08-03 02:00:00+00:00</th>\n",
       "      <td>27974.931641</td>\n",
       "      <td>28125.648438</td>\n",
       "      <td>27919.728516</td>\n",
       "      <td>28064.576172</td>\n",
       "      <td>1.0</td>\n",
       "    </tr>\n",
       "    <tr>\n",
       "      <th>2021-08-03 03:00:00+00:00</th>\n",
       "      <td>28064.537109</td>\n",
       "      <td>28067.361328</td>\n",
       "      <td>27771.798828</td>\n",
       "      <td>27840.082031</td>\n",
       "      <td>1.0</td>\n",
       "    </tr>\n",
       "    <tr>\n",
       "      <th>2021-08-03 04:00:00+00:00</th>\n",
       "      <td>27833.152344</td>\n",
       "      <td>27925.753906</td>\n",
       "      <td>27577.039062</td>\n",
       "      <td>27577.039062</td>\n",
       "      <td>1.0</td>\n",
       "    </tr>\n",
       "  </tbody>\n",
       "</table>\n",
       "</div>"
      ],
      "text/plain": [
       "                                   Open          High           Low  \\\n",
       "datetime                                                              \n",
       "2021-08-03 00:00:00+00:00  28204.455078  28602.572266  27945.894531   \n",
       "2021-08-03 01:00:00+00:00  28326.119141  28326.119141  27973.533203   \n",
       "2021-08-03 02:00:00+00:00  27974.931641  28125.648438  27919.728516   \n",
       "2021-08-03 03:00:00+00:00  28064.537109  28067.361328  27771.798828   \n",
       "2021-08-03 04:00:00+00:00  27833.152344  27925.753906  27577.039062   \n",
       "\n",
       "                                  Close  sentiment  \n",
       "datetime                                            \n",
       "2021-08-03 00:00:00+00:00  28327.294922        1.0  \n",
       "2021-08-03 01:00:00+00:00  27973.533203        1.0  \n",
       "2021-08-03 02:00:00+00:00  28064.576172        1.0  \n",
       "2021-08-03 03:00:00+00:00  27840.082031        1.0  \n",
       "2021-08-03 04:00:00+00:00  27577.039062        1.0  "
      ]
     },
     "execution_count": 29,
     "metadata": {},
     "output_type": "execute_result"
    }
   ],
   "source": [
    "merged_data = btc.merge(sentiment, left_index=True, right_index=True, how='left')\n",
    "merged_data.head()"
   ]
  },
  {
   "cell_type": "code",
   "execution_count": 30,
   "metadata": {},
   "outputs": [
    {
     "data": {
      "text/plain": [
       "Open            0\n",
       "High            0\n",
       "Low             0\n",
       "Close           0\n",
       "sentiment    4835\n",
       "dtype: int64"
      ]
     },
     "execution_count": 30,
     "metadata": {},
     "output_type": "execute_result"
    }
   ],
   "source": [
    "merged_data.isna().sum()"
   ]
  },
  {
   "cell_type": "code",
   "execution_count": 140,
   "metadata": {},
   "outputs": [],
   "source": [
    "# import pandas as pd\n",
    "\n",
    "# # Your merged_data DataFrame\n",
    "# # ...\n",
    "\n",
    "# # Resample to 1-hour intervals and aggregate sentiment by most common value\n",
    "# hourly_data = merged_data.resample('1H').agg({\n",
    "#     'Open': 'first',\n",
    "#     'High': 'max',\n",
    "#     'Low': 'min',\n",
    "#     'Close': 'last',\n",
    "#     'sentiment': lambda x: x.mode()[0] #value_counts().index[0]\n",
    "# })\n",
    "\n",
    "# # Drop rows with all NaN values (if needed)\n",
    "# no_nan = hourly_data.dropna(axis=0)\n",
    "\n",
    "# # Print the resulting hourly_data DataFrame\n",
    "# hourly_data\n"
   ]
  },
  {
   "cell_type": "code",
   "execution_count": 31,
   "metadata": {},
   "outputs": [],
   "source": [
    "data_clean = merged_data.dropna(axis=0)"
   ]
  },
  {
   "cell_type": "code",
   "execution_count": 141,
   "metadata": {},
   "outputs": [],
   "source": [
    "# data_clean.to_parquet(\"btc_sentiment.parquet\")"
   ]
  },
  {
   "cell_type": "code",
   "execution_count": 32,
   "metadata": {},
   "outputs": [
    {
     "data": {
      "text/html": [
       "<div>\n",
       "<style scoped>\n",
       "    .dataframe tbody tr th:only-of-type {\n",
       "        vertical-align: middle;\n",
       "    }\n",
       "\n",
       "    .dataframe tbody tr th {\n",
       "        vertical-align: top;\n",
       "    }\n",
       "\n",
       "    .dataframe thead th {\n",
       "        text-align: right;\n",
       "    }\n",
       "</style>\n",
       "<table border=\"1\" class=\"dataframe\">\n",
       "  <thead>\n",
       "    <tr style=\"text-align: right;\">\n",
       "      <th></th>\n",
       "      <th>Open</th>\n",
       "      <th>High</th>\n",
       "      <th>Low</th>\n",
       "      <th>Close</th>\n",
       "      <th>sentiment</th>\n",
       "    </tr>\n",
       "    <tr>\n",
       "      <th>datetime</th>\n",
       "      <th></th>\n",
       "      <th></th>\n",
       "      <th></th>\n",
       "      <th></th>\n",
       "      <th></th>\n",
       "    </tr>\n",
       "  </thead>\n",
       "  <tbody>\n",
       "    <tr>\n",
       "      <th>2021-08-03 00:00:00+00:00</th>\n",
       "      <td>28204.455078</td>\n",
       "      <td>28602.572266</td>\n",
       "      <td>27945.894531</td>\n",
       "      <td>28327.294922</td>\n",
       "      <td>1.0</td>\n",
       "    </tr>\n",
       "    <tr>\n",
       "      <th>2021-08-03 01:00:00+00:00</th>\n",
       "      <td>28326.119141</td>\n",
       "      <td>28326.119141</td>\n",
       "      <td>27973.533203</td>\n",
       "      <td>27973.533203</td>\n",
       "      <td>1.0</td>\n",
       "    </tr>\n",
       "    <tr>\n",
       "      <th>2021-08-03 02:00:00+00:00</th>\n",
       "      <td>27974.931641</td>\n",
       "      <td>28125.648438</td>\n",
       "      <td>27919.728516</td>\n",
       "      <td>28064.576172</td>\n",
       "      <td>1.0</td>\n",
       "    </tr>\n",
       "    <tr>\n",
       "      <th>2021-08-03 03:00:00+00:00</th>\n",
       "      <td>28064.537109</td>\n",
       "      <td>28067.361328</td>\n",
       "      <td>27771.798828</td>\n",
       "      <td>27840.082031</td>\n",
       "      <td>1.0</td>\n",
       "    </tr>\n",
       "    <tr>\n",
       "      <th>2021-08-03 04:00:00+00:00</th>\n",
       "      <td>27833.152344</td>\n",
       "      <td>27925.753906</td>\n",
       "      <td>27577.039062</td>\n",
       "      <td>27577.039062</td>\n",
       "      <td>1.0</td>\n",
       "    </tr>\n",
       "    <tr>\n",
       "      <th>...</th>\n",
       "      <td>...</td>\n",
       "      <td>...</td>\n",
       "      <td>...</td>\n",
       "      <td>...</td>\n",
       "      <td>...</td>\n",
       "    </tr>\n",
       "    <tr>\n",
       "      <th>2023-01-09 19:00:00+00:00</th>\n",
       "      <td>14236.488281</td>\n",
       "      <td>14236.488281</td>\n",
       "      <td>14195.312500</td>\n",
       "      <td>14195.312500</td>\n",
       "      <td>1.0</td>\n",
       "    </tr>\n",
       "    <tr>\n",
       "      <th>2023-01-09 20:00:00+00:00</th>\n",
       "      <td>14192.876953</td>\n",
       "      <td>14195.422852</td>\n",
       "      <td>14126.580078</td>\n",
       "      <td>14128.775391</td>\n",
       "      <td>1.0</td>\n",
       "    </tr>\n",
       "    <tr>\n",
       "      <th>2023-01-09 21:00:00+00:00</th>\n",
       "      <td>14130.629883</td>\n",
       "      <td>14159.559570</td>\n",
       "      <td>14106.828125</td>\n",
       "      <td>14107.657227</td>\n",
       "      <td>1.0</td>\n",
       "    </tr>\n",
       "    <tr>\n",
       "      <th>2023-01-09 22:00:00+00:00</th>\n",
       "      <td>14108.405273</td>\n",
       "      <td>14140.638672</td>\n",
       "      <td>14104.168945</td>\n",
       "      <td>14123.494141</td>\n",
       "      <td>1.0</td>\n",
       "    </tr>\n",
       "    <tr>\n",
       "      <th>2023-01-09 23:00:00+00:00</th>\n",
       "      <td>14124.325195</td>\n",
       "      <td>14131.655273</td>\n",
       "      <td>14091.967773</td>\n",
       "      <td>14112.690430</td>\n",
       "      <td>1.0</td>\n",
       "    </tr>\n",
       "  </tbody>\n",
       "</table>\n",
       "<p>12469 rows × 5 columns</p>\n",
       "</div>"
      ],
      "text/plain": [
       "                                   Open          High           Low  \\\n",
       "datetime                                                              \n",
       "2021-08-03 00:00:00+00:00  28204.455078  28602.572266  27945.894531   \n",
       "2021-08-03 01:00:00+00:00  28326.119141  28326.119141  27973.533203   \n",
       "2021-08-03 02:00:00+00:00  27974.931641  28125.648438  27919.728516   \n",
       "2021-08-03 03:00:00+00:00  28064.537109  28067.361328  27771.798828   \n",
       "2021-08-03 04:00:00+00:00  27833.152344  27925.753906  27577.039062   \n",
       "...                                 ...           ...           ...   \n",
       "2023-01-09 19:00:00+00:00  14236.488281  14236.488281  14195.312500   \n",
       "2023-01-09 20:00:00+00:00  14192.876953  14195.422852  14126.580078   \n",
       "2023-01-09 21:00:00+00:00  14130.629883  14159.559570  14106.828125   \n",
       "2023-01-09 22:00:00+00:00  14108.405273  14140.638672  14104.168945   \n",
       "2023-01-09 23:00:00+00:00  14124.325195  14131.655273  14091.967773   \n",
       "\n",
       "                                  Close  sentiment  \n",
       "datetime                                            \n",
       "2021-08-03 00:00:00+00:00  28327.294922        1.0  \n",
       "2021-08-03 01:00:00+00:00  27973.533203        1.0  \n",
       "2021-08-03 02:00:00+00:00  28064.576172        1.0  \n",
       "2021-08-03 03:00:00+00:00  27840.082031        1.0  \n",
       "2021-08-03 04:00:00+00:00  27577.039062        1.0  \n",
       "...                                 ...        ...  \n",
       "2023-01-09 19:00:00+00:00  14195.312500        1.0  \n",
       "2023-01-09 20:00:00+00:00  14128.775391        1.0  \n",
       "2023-01-09 21:00:00+00:00  14107.657227        1.0  \n",
       "2023-01-09 22:00:00+00:00  14123.494141        1.0  \n",
       "2023-01-09 23:00:00+00:00  14112.690430        1.0  \n",
       "\n",
       "[12469 rows x 5 columns]"
      ]
     },
     "execution_count": 32,
     "metadata": {},
     "output_type": "execute_result"
    }
   ],
   "source": [
    "data_clean"
   ]
  },
  {
   "cell_type": "code",
   "execution_count": 72,
   "metadata": {},
   "outputs": [],
   "source": [
    "# def classify_sentiment(value):\n",
    "#     return 1 if value == 1 else (2 if value > 1 else 0)"
   ]
  },
  {
   "cell_type": "code",
   "execution_count": 73,
   "metadata": {},
   "outputs": [],
   "source": [
    "# data_clean['sentiment'] = data_clean['sentiment'].apply(lambda x: classify_sentiment(x))"
   ]
  },
  {
   "cell_type": "code",
   "execution_count": 20,
   "metadata": {},
   "outputs": [
    {
     "data": {
      "text/html": [
       "<div>\n",
       "<style scoped>\n",
       "    .dataframe tbody tr th:only-of-type {\n",
       "        vertical-align: middle;\n",
       "    }\n",
       "\n",
       "    .dataframe tbody tr th {\n",
       "        vertical-align: top;\n",
       "    }\n",
       "\n",
       "    .dataframe thead th {\n",
       "        text-align: right;\n",
       "    }\n",
       "</style>\n",
       "<table border=\"1\" class=\"dataframe\">\n",
       "  <thead>\n",
       "    <tr style=\"text-align: right;\">\n",
       "      <th></th>\n",
       "      <th>Open</th>\n",
       "      <th>High</th>\n",
       "      <th>Low</th>\n",
       "      <th>Close</th>\n",
       "      <th>sentiment</th>\n",
       "    </tr>\n",
       "  </thead>\n",
       "  <tbody>\n",
       "    <tr>\n",
       "      <th>count</th>\n",
       "      <td>12469.000000</td>\n",
       "      <td>12469.000000</td>\n",
       "      <td>12469.000000</td>\n",
       "      <td>12469.000000</td>\n",
       "      <td>12469.000000</td>\n",
       "    </tr>\n",
       "    <tr>\n",
       "      <th>mean</th>\n",
       "      <td>26837.956039</td>\n",
       "      <td>26933.007736</td>\n",
       "      <td>26739.094500</td>\n",
       "      <td>26836.233969</td>\n",
       "      <td>1.065442</td>\n",
       "    </tr>\n",
       "    <tr>\n",
       "      <th>std</th>\n",
       "      <td>9751.803580</td>\n",
       "      <td>9796.445450</td>\n",
       "      <td>9705.191632</td>\n",
       "      <td>9752.270962</td>\n",
       "      <td>0.311088</td>\n",
       "    </tr>\n",
       "    <tr>\n",
       "      <th>min</th>\n",
       "      <td>13225.777344</td>\n",
       "      <td>13288.554688</td>\n",
       "      <td>13195.842773</td>\n",
       "      <td>13228.312500</td>\n",
       "      <td>0.000000</td>\n",
       "    </tr>\n",
       "    <tr>\n",
       "      <th>25%</th>\n",
       "      <td>17498.417969</td>\n",
       "      <td>17540.890625</td>\n",
       "      <td>17443.201172</td>\n",
       "      <td>17491.777344</td>\n",
       "      <td>1.000000</td>\n",
       "    </tr>\n",
       "    <tr>\n",
       "      <th>50%</th>\n",
       "      <td>28122.261719</td>\n",
       "      <td>28218.951172</td>\n",
       "      <td>27980.861328</td>\n",
       "      <td>28113.849609</td>\n",
       "      <td>1.000000</td>\n",
       "    </tr>\n",
       "    <tr>\n",
       "      <th>75%</th>\n",
       "      <td>33923.312500</td>\n",
       "      <td>34081.207031</td>\n",
       "      <td>33820.777344</td>\n",
       "      <td>33931.281250</td>\n",
       "      <td>1.000000</td>\n",
       "    </tr>\n",
       "    <tr>\n",
       "      <th>max</th>\n",
       "      <td>50979.144531</td>\n",
       "      <td>51068.097656</td>\n",
       "      <td>50859.015625</td>\n",
       "      <td>50992.585938</td>\n",
       "      <td>2.000000</td>\n",
       "    </tr>\n",
       "  </tbody>\n",
       "</table>\n",
       "</div>"
      ],
      "text/plain": [
       "               Open          High           Low         Close     sentiment\n",
       "count  12469.000000  12469.000000  12469.000000  12469.000000  12469.000000\n",
       "mean   26837.956039  26933.007736  26739.094500  26836.233969      1.065442\n",
       "std     9751.803580   9796.445450   9705.191632   9752.270962      0.311088\n",
       "min    13225.777344  13288.554688  13195.842773  13228.312500      0.000000\n",
       "25%    17498.417969  17540.890625  17443.201172  17491.777344      1.000000\n",
       "50%    28122.261719  28218.951172  27980.861328  28113.849609      1.000000\n",
       "75%    33923.312500  34081.207031  33820.777344  33931.281250      1.000000\n",
       "max    50979.144531  51068.097656  50859.015625  50992.585938      2.000000"
      ]
     },
     "execution_count": 20,
     "metadata": {},
     "output_type": "execute_result"
    }
   ],
   "source": [
    "data_clean.describe()"
   ]
  },
  {
   "cell_type": "code",
   "execution_count": 21,
   "metadata": {},
   "outputs": [
    {
     "data": {
      "text/plain": [
       "Open         0\n",
       "High         0\n",
       "Low          0\n",
       "Close        0\n",
       "sentiment    0\n",
       "dtype: int64"
      ]
     },
     "execution_count": 21,
     "metadata": {},
     "output_type": "execute_result"
    }
   ],
   "source": [
    "data_clean.isna().sum()"
   ]
  },
  {
   "cell_type": "code",
   "execution_count": 22,
   "metadata": {},
   "outputs": [
    {
     "data": {
      "text/plain": [
       "<matplotlib.legend.Legend at 0x2b372ca6dc0>"
      ]
     },
     "execution_count": 22,
     "metadata": {},
     "output_type": "execute_result"
    },
    {
     "data": {
      "image/png": "[encoded data removed]",
      "text/plain": [
       "<Figure size 1400x800 with 1 Axes>"
      ]
     },
     "metadata": {},
     "output_type": "display_data"
    }
   ],
   "source": [
    "plt.figure(figsize=(14,8))\n",
    "data_clean['Close'].rolling(120).mean().plot(label='120hr', color='black')\n",
    "data_clean['Close'].rolling(1200).mean().plot(label='1200hr')\n",
    "data_clean['Close'].plot(label='Close')\n",
    "plt.grid(True)\n",
    "plt.legend()"
   ]
  },
  {
   "cell_type": "code",
   "execution_count": 33,
   "metadata": {},
   "outputs": [
    {
     "data": {
      "text/plain": [
       "<Axes: >"
      ]
     },
     "execution_count": 33,
     "metadata": {},
     "output_type": "execute_result"
    },
    {
     "data": {
      "image/png": "[encoded data removed]",
      "text/plain": [
       "<Figure size 640x480 with 2 Axes>"
      ]
     },
     "metadata": {},
     "output_type": "display_data"
    }
   ],
   "source": [
    "sns.heatmap(pd.DataFrame(data_clean).corr(), cmap='coolwarm', annot=True, fmt='4f')"
   ]
  },
  {
   "cell_type": "code",
   "execution_count": 34,
   "metadata": {},
   "outputs": [],
   "source": [
    "# data_clean.iloc[:9975]"
   ]
  },
  {
   "cell_type": "markdown",
   "metadata": {},
   "source": [
    "data_clean.plot(figsize=(14,8), color=sns.color_palette()[0])"
   ]
  },
  {
   "cell_type": "markdown",
   "metadata": {},
   "source": [
    "##XGBoost"
   ]
  },
  {
   "cell_type": "code",
   "execution_count": 196,
   "metadata": {},
   "outputs": [
    {
     "data": {
      "text/plain": [
       "array([<Axes: xlabel='date'>, <Axes: xlabel='date'>,\n",
       "       <Axes: xlabel='date'>, <Axes: xlabel='date'>,\n",
       "       <Axes: xlabel='date'>], dtype=object)"
      ]
     },
     "execution_count": 196,
     "metadata": {},
     "output_type": "execute_result"
    },
    {
     "data": {
      "image/png": "[encoded data removed]",
      "text/plain": [
       "<Figure size 1600x800 with 5 Axes>"
      ]
     },
     "metadata": {},
     "output_type": "display_data"
    }
   ],
   "source": [
    "data_clean.plot(subplots=True, figsize=(16,8))"
   ]
  },
  {
   "cell_type": "code",
   "execution_count": 35,
   "metadata": {},
   "outputs": [],
   "source": [
    "# train = data_clean.iloc[:9975] # 80% of df\n",
    "# test = data_clean.iloc[9975:] # 20% of df\n",
    "# data_clean.index[9975]"
   ]
  },
  {
   "cell_type": "code",
   "execution_count": 36,
   "metadata": {},
   "outputs": [],
   "source": [
    "# fig, ax = plt.subplots(figsize=(13,7))\n",
    "# train['Close'].plot(ax=ax, label='Training subset')\n",
    "# test['Close'].plot(ax=ax, label='test subset', color='grey')\n",
    "# ax.axvline(data_clean.index[9975], color='red', ls='--')\n",
    "# plt.legend()\n",
    "# plt.show()"
   ]
  },
  {
   "cell_type": "markdown",
   "metadata": {},
   "source": [
    "Preproess and Splits"
   ]
  },
  {
   "cell_type": "code",
   "execution_count": 74,
   "metadata": {},
   "outputs": [],
   "source": [
    "from sklearn.model_selection import train_test_split, GridSearchCV\n",
    "from sklearn.preprocessing import MinMaxScaler\n",
    "from sklearn.metrics import mean_squared_error\n",
    "\n",
    "\n",
    "\n",
    "scaler = MinMaxScaler()\n",
    "\n",
    "\n",
    "def split_data(df, n=80):\n",
    "    n = int(80 * len(df) / 100)\n",
    "    train = data_clean.iloc[:n]\n",
    "    test = data_clean.iloc[n:]\n",
    "    return train, test"
   ]
  },
  {
   "cell_type": "markdown",
   "metadata": {},
   "source": [
    "<!--  -->"
   ]
  },
  {
   "cell_type": "markdown",
   "metadata": {},
   "source": [
    "Hyperparameter tuning with GridSearchCV"
   ]
  },
  {
   "cell_type": "code",
   "execution_count": null,
   "metadata": {},
   "outputs": [],
   "source": []
  },
  {
   "cell_type": "markdown",
   "metadata": {},
   "source": [
    "## LSTM"
   ]
  },
  {
   "cell_type": "code",
   "execution_count": 84,
   "metadata": {},
   "outputs": [
    {
     "ename": "ModuleNotFoundError",
     "evalue": "No module named 'keras.wrappers'",
     "output_type": "error",
     "traceback": [
      "\u001b[1;31m---------------------------------------------------------------------------\u001b[0m",
      "\u001b[1;31mModuleNotFoundError\u001b[0m                       Traceback (most recent call last)",
      "Cell \u001b[1;32mIn[84], line 8\u001b[0m\n\u001b[0;32m      5\u001b[0m \u001b[39mfrom\u001b[39;00m \u001b[39mkeras\u001b[39;00m\u001b[39m.\u001b[39;00m\u001b[39mcallbacks\u001b[39;00m \u001b[39mimport\u001b[39;00m EarlyStopping\n\u001b[0;32m      7\u001b[0m \u001b[39mfrom\u001b[39;00m \u001b[39mkeras\u001b[39;00m\u001b[39m.\u001b[39;00m\u001b[39mmodels\u001b[39;00m \u001b[39mimport\u001b[39;00m Sequential\n\u001b[1;32m----> 8\u001b[0m \u001b[39mfrom\u001b[39;00m \u001b[39mkeras\u001b[39;00m\u001b[39m.\u001b[39;00m\u001b[39mwrappers\u001b[39;00m\u001b[39m.\u001b[39;00m\u001b[39mscikit_learn\u001b[39;00m \u001b[39mimport\u001b[39;00m KerasRegressor\n\u001b[0;32m      9\u001b[0m \u001b[39mfrom\u001b[39;00m \u001b[39mkeras\u001b[39;00m\u001b[39m.\u001b[39;00m\u001b[39mactivations\u001b[39;00m \u001b[39mimport\u001b[39;00m relu, sigmoid, tanh\n\u001b[0;32m     10\u001b[0m \u001b[39mfrom\u001b[39;00m \u001b[39mkeras\u001b[39;00m\u001b[39m.\u001b[39;00m\u001b[39moptimizers\u001b[39;00m \u001b[39mimport\u001b[39;00m SGD, Adam\n",
      "\u001b[1;31mModuleNotFoundError\u001b[0m: No module named 'keras.wrappers'"
     ]
    }
   ],
   "source": [
    "from keras.preprocessing.sequence import TimeseriesGenerator\n",
    "\n",
    "from tensorflow import keras\n",
    "from keras.layers import Dense, Input, LSTM, Dropout, LeakyReLU\n",
    "from keras.callbacks import EarlyStopping\n",
    "\n",
    "from keras.models import Sequential\n",
    "from keras.wrappers.scikit_learn import KerasRegressor\n",
    "from keras.activations import relu, sigmoid, tanh\n",
    "from keras.optimizers import SGD, Adam\n",
    "from keras.losses import MeanSquaredError  # error estimation"
   ]
  },
  {
   "cell_type": "code",
   "execution_count": 85,
   "metadata": {},
   "outputs": [
    {
     "data": {
      "text/html": [
       "<div>\n",
       "<style scoped>\n",
       "    .dataframe tbody tr th:only-of-type {\n",
       "        vertical-align: middle;\n",
       "    }\n",
       "\n",
       "    .dataframe tbody tr th {\n",
       "        vertical-align: top;\n",
       "    }\n",
       "\n",
       "    .dataframe thead th {\n",
       "        text-align: right;\n",
       "    }\n",
       "</style>\n",
       "<table border=\"1\" class=\"dataframe\">\n",
       "  <thead>\n",
       "    <tr style=\"text-align: right;\">\n",
       "      <th></th>\n",
       "      <th>Open</th>\n",
       "      <th>High</th>\n",
       "      <th>Low</th>\n",
       "      <th>Close</th>\n",
       "      <th>sentiment</th>\n",
       "    </tr>\n",
       "    <tr>\n",
       "      <th>datetime</th>\n",
       "      <th></th>\n",
       "      <th></th>\n",
       "      <th></th>\n",
       "      <th></th>\n",
       "      <th></th>\n",
       "    </tr>\n",
       "  </thead>\n",
       "  <tbody>\n",
       "    <tr>\n",
       "      <th>2021-08-03 00:00:00+00:00</th>\n",
       "      <td>28204.455078</td>\n",
       "      <td>28602.572266</td>\n",
       "      <td>27945.894531</td>\n",
       "      <td>28327.294922</td>\n",
       "      <td>1.0</td>\n",
       "    </tr>\n",
       "    <tr>\n",
       "      <th>2021-08-03 01:00:00+00:00</th>\n",
       "      <td>28326.119141</td>\n",
       "      <td>28326.119141</td>\n",
       "      <td>27973.533203</td>\n",
       "      <td>27973.533203</td>\n",
       "      <td>1.0</td>\n",
       "    </tr>\n",
       "    <tr>\n",
       "      <th>2021-08-03 02:00:00+00:00</th>\n",
       "      <td>27974.931641</td>\n",
       "      <td>28125.648438</td>\n",
       "      <td>27919.728516</td>\n",
       "      <td>28064.576172</td>\n",
       "      <td>1.0</td>\n",
       "    </tr>\n",
       "    <tr>\n",
       "      <th>2021-08-03 03:00:00+00:00</th>\n",
       "      <td>28064.537109</td>\n",
       "      <td>28067.361328</td>\n",
       "      <td>27771.798828</td>\n",
       "      <td>27840.082031</td>\n",
       "      <td>1.0</td>\n",
       "    </tr>\n",
       "    <tr>\n",
       "      <th>2021-08-03 04:00:00+00:00</th>\n",
       "      <td>27833.152344</td>\n",
       "      <td>27925.753906</td>\n",
       "      <td>27577.039062</td>\n",
       "      <td>27577.039062</td>\n",
       "      <td>1.0</td>\n",
       "    </tr>\n",
       "  </tbody>\n",
       "</table>\n",
       "</div>"
      ],
      "text/plain": [
       "                                   Open          High           Low  \\\n",
       "datetime                                                              \n",
       "2021-08-03 00:00:00+00:00  28204.455078  28602.572266  27945.894531   \n",
       "2021-08-03 01:00:00+00:00  28326.119141  28326.119141  27973.533203   \n",
       "2021-08-03 02:00:00+00:00  27974.931641  28125.648438  27919.728516   \n",
       "2021-08-03 03:00:00+00:00  28064.537109  28067.361328  27771.798828   \n",
       "2021-08-03 04:00:00+00:00  27833.152344  27925.753906  27577.039062   \n",
       "\n",
       "                                  Close  sentiment  \n",
       "datetime                                            \n",
       "2021-08-03 00:00:00+00:00  28327.294922        1.0  \n",
       "2021-08-03 01:00:00+00:00  27973.533203        1.0  \n",
       "2021-08-03 02:00:00+00:00  28064.576172        1.0  \n",
       "2021-08-03 03:00:00+00:00  27840.082031        1.0  \n",
       "2021-08-03 04:00:00+00:00  27577.039062        1.0  "
      ]
     },
     "execution_count": 85,
     "metadata": {},
     "output_type": "execute_result"
    }
   ],
   "source": [
    "data_clean.head()"
   ]
  },
  {
   "cell_type": "code",
   "execution_count": 40,
   "metadata": {},
   "outputs": [
    {
     "data": {
      "text/plain": [
       "array([[0.39675078, 0.40535211, 0.39163062, 0.39982187, 0.5       ],\n",
       "       [0.39997338, 0.39803458, 0.39236446, 0.39045424, 0.5       ],\n",
       "       [0.39067123, 0.39272825, 0.39093588, 0.39286506, 0.5       ],\n",
       "       ...,\n",
       "       [0.02396747, 0.02305493, 0.0241877 , 0.0232851 , 0.5       ],\n",
       "       [0.02337879, 0.02255411, 0.02411709, 0.02370446, 0.5       ],\n",
       "       [0.02380047, 0.02231633, 0.02379314, 0.02341838, 0.5       ]])"
      ]
     },
     "execution_count": 40,
     "metadata": {},
     "output_type": "execute_result"
    }
   ],
   "source": [
    "lstm_data_scaled = scaler.fit_transform(data_clean)\n",
    "lstm_data_scaled"
   ]
  },
  {
   "cell_type": "markdown",
   "metadata": {},
   "source": [
    "Split data into train and validation sets.\n",
    "\n",
    "Here, I am using all features as the training data, while the target is the validation data. However,"
   ]
  },
  {
   "cell_type": "code",
   "execution_count": 57,
   "metadata": {},
   "outputs": [
    {
     "data": {
      "text/plain": [
       "((9975, 5), (2494, 5), (9975,), (2494,))"
      ]
     },
     "execution_count": 57,
     "metadata": {},
     "output_type": "execute_result"
    }
   ],
   "source": [
    "lstm_features = lstm_data_scaled\n",
    "lstm_target = lstm_data_scaled[:, 3]\n",
    "X_train_lstm, X_test_lstm, y_train_lstm, y_test_lstm = train_test_split(lstm_features, lstm_target, train_size=.8, random_state=42, shuffle=False)\n",
    "\n",
    "X_train_lstm.shape, X_test_lstm.shape, y_train_lstm.shape, y_test_lstm.shape"
   ]
  },
  {
   "cell_type": "code",
   "execution_count": 66,
   "metadata": {},
   "outputs": [],
   "source": [
    "window_length = 1*24*5 # hourly data of five days = 120 hours\n",
    "batch_size = 32\n",
    "num_features = 5\n",
    "\n",
    "lstm_train = TimeseriesGenerator(X_train_lstm, y_train_lstm, length=window_length, batch_size=batch_size)\n",
    "lstm_test = TimeseriesGenerator(X_test_lstm, y_test_lstm, length=window_length, batch_size=batch_size)\n"
   ]
  },
  {
   "cell_type": "code",
   "execution_count": 67,
   "metadata": {},
   "outputs": [
    {
     "data": {
      "text/plain": [
       "(array([[[0.39675078, 0.40535211, 0.39163062, 0.39982187, 0.5       ],\n",
       "         [0.39997338, 0.39803458, 0.39236446, 0.39045424, 0.5       ],\n",
       "         [0.39067123, 0.39272825, 0.39093588, 0.39286506, 0.5       ],\n",
       "         ...,\n",
       "         [0.48879234, 0.49421278, 0.49017075, 0.4950518 , 1.        ],\n",
       "         [0.49566797, 0.49696161, 0.49525898, 0.49526612, 1.        ],\n",
       "         [0.49560195, 0.50211072, 0.49528423, 0.50336545, 0.5       ]],\n",
       " \n",
       "        [[0.39997338, 0.39803458, 0.39236446, 0.39045424, 0.5       ],\n",
       "         [0.39067123, 0.39272825, 0.39093588, 0.39286506, 0.5       ],\n",
       "         [0.39304467, 0.39118543, 0.38700818, 0.38692045, 0.5       ],\n",
       "         ...,\n",
       "         [0.49566797, 0.49696161, 0.49525898, 0.49526612, 1.        ],\n",
       "         [0.49560195, 0.50211072, 0.49528423, 0.50336545, 0.5       ],\n",
       "         [0.5036046 , 0.51195701, 0.50430379, 0.50908954, 1.        ]],\n",
       " \n",
       "        [[0.39067123, 0.39272825, 0.39093588, 0.39286506, 0.5       ],\n",
       "         [0.39304467, 0.39118543, 0.38700818, 0.38692045, 0.5       ],\n",
       "         [0.38691582, 0.38743717, 0.38183709, 0.37995505, 0.5       ],\n",
       "         ...,\n",
       "         [0.49560195, 0.50211072, 0.49528423, 0.50336545, 0.5       ],\n",
       "         [0.5036046 , 0.51195701, 0.50430379, 0.50908954, 1.        ],\n",
       "         [0.50953252, 0.51162527, 0.50701366, 0.50552404, 1.        ]],\n",
       " \n",
       "        ...,\n",
       " \n",
       "        [[0.37276011, 0.37269462, 0.37017653, 0.36832571, 0.5       ],\n",
       "         [0.36837898, 0.36747649, 0.36821076, 0.3676454 , 0.5       ],\n",
       "         [0.36828089, 0.36971485, 0.36689041, 0.36678914, 0.5       ],\n",
       "         ...,\n",
       "         [0.48565261, 0.50497882, 0.48607768, 0.50511324, 0.5       ],\n",
       "         [0.50521182, 0.51789768, 0.50710182, 0.51914756, 0.5       ],\n",
       "         [0.52049486, 0.52643146, 0.52014361, 0.52492838, 1.        ]],\n",
       " \n",
       "        [[0.36837898, 0.36747649, 0.36821076, 0.3676454 , 0.5       ],\n",
       "         [0.36828089, 0.36971485, 0.36689041, 0.36678914, 0.5       ],\n",
       "         [0.36755543, 0.36759581, 0.3677515 , 0.36868474, 0.5       ],\n",
       "         ...,\n",
       "         [0.50521182, 0.51789768, 0.50710182, 0.51914756, 0.5       ],\n",
       "         [0.52049486, 0.52643146, 0.52014361, 0.52492838, 1.        ],\n",
       "         [0.52685988, 0.52483316, 0.52193706, 0.52114081, 0.5       ]],\n",
       " \n",
       "        [[0.36828089, 0.36971485, 0.36689041, 0.36678914, 0.5       ],\n",
       "         [0.36755543, 0.36759581, 0.3677515 , 0.36868474, 0.5       ],\n",
       "         [0.36881432, 0.37195518, 0.3687842 , 0.3737008 , 0.5       ],\n",
       "         ...,\n",
       "         [0.52049486, 0.52643146, 0.52014361, 0.52492838, 1.        ],\n",
       "         [0.52685988, 0.52483316, 0.52193706, 0.52114081, 0.5       ],\n",
       "         [0.52150377, 0.52352872, 0.51822021, 0.51733932, 0.5       ]]]),\n",
       " array([0.50908954, 0.50552404, 0.49911359, 0.50277622, 0.4975988 ,\n",
       "        0.49912455, 0.51010328, 0.50307112, 0.48806287, 0.48874225,\n",
       "        0.48533331, 0.4840514 , 0.48078753, 0.48208469, 0.4862584 ,\n",
       "        0.49295631, 0.49617679, 0.47606007, 0.47421107, 0.4796267 ,\n",
       "        0.48028043, 0.48209312, 0.48152608, 0.47914427, 0.48515927,\n",
       "        0.48576366, 0.50511324, 0.51914756, 0.52492838, 0.52114081,\n",
       "        0.51733932, 0.52318753]))"
      ]
     },
     "execution_count": 67,
     "metadata": {},
     "output_type": "execute_result"
    }
   ],
   "source": [
    "lstm_train[0]"
   ]
  },
  {
   "cell_type": "code",
   "execution_count": 79,
   "metadata": {},
   "outputs": [
    {
     "ename": "ModuleNotFoundError",
     "evalue": "No module named 'tensorflow.keras.wrappers'",
     "output_type": "error",
     "traceback": [
      "\u001b[1;31m---------------------------------------------------------------------------\u001b[0m",
      "\u001b[1;31mModuleNotFoundError\u001b[0m                       Traceback (most recent call last)",
      "Cell \u001b[1;32mIn[79], line 1\u001b[0m\n\u001b[1;32m----> 1\u001b[0m \u001b[39mfrom\u001b[39;00m \u001b[39mtensorflow\u001b[39;00m\u001b[39m.\u001b[39;00m\u001b[39mkeras\u001b[39;00m\u001b[39m.\u001b[39;00m\u001b[39mwrappers\u001b[39;00m\u001b[39m.\u001b[39;00m\u001b[39mscikit_learn\u001b[39;00m \u001b[39mimport\u001b[39;00m KerasRegressor\n\u001b[0;32m      3\u001b[0m \u001b[39mdef\u001b[39;00m \u001b[39mcreate_model\u001b[39m(units, input_shape):\n\u001b[0;32m      4\u001b[0m     model \u001b[39m=\u001b[39m Sequential()\n",
      "\u001b[1;31mModuleNotFoundError\u001b[0m: No module named 'tensorflow.keras.wrappers'"
     ]
    }
   ],
   "source": [
    "from keras.wrappers.scikit_learn import KerasRegressor\n",
    "\n",
    "def create_model(units, input_shape):\n",
    "    model = Sequential()\n",
    "    model.add(LSTM(units, input_shape, return_sequences=True))\n",
    "    model.add(LeakyReLU(alpha=.2))\n",
    "    model.add(LSTM(units/4, return_sequences=False))\n",
    "    model.add(LeakyReLU(alpha=.2))\n",
    "    model.add(Dropout(rate=0.2))\n",
    "    model.add(Dense(units=1))\n",
    "    model.compile(optimizers='adam', losses=[MeanSquaredError()])\n",
    "    return model\n",
    "\n",
    "\n",
    "def tune_hyperparameters():\n",
    "    param_grid = {\n",
    "        'units': [32, 64, 128],\n",
    "        'epochs': [20, 35, 50],\n",
    "        'batch_size': [32, 64, 128],\n",
    "        'learning_rate': [0.01, 0.001, 0.0001],\n",
    "        'dropout_rate': [0.2, 0.25]\n",
    "\n",
    "    }\n",
    "\n",
    "    lstm_model = KerasRegressor(build_fn=create_model, input_shape=(120, 5))\n",
    "\n",
    "    grid = GridSearchCV(estimator=lstm_model, param_grid=param_grid, cv=5, scoring='neg_mean_squared_error')\n",
    "    grid_results = grid.fit(lstm_train)\n",
    "\n",
    "    print(f'Best tuned Hyperparameters: {grid_results.best_params_}')\n",
    "\n",
    "\n",
    "tune_hyperparameters()\n"
   ]
  },
  {
   "cell_type": "code",
   "execution_count": 69,
   "metadata": {},
   "outputs": [
    {
     "name": "stdout",
     "output_type": "stream",
     "text": [
      "Model: \"sequential\"\n",
      "_________________________________________________________________\n",
      " Layer (type)                Output Shape              Param #   \n",
      "=================================================================\n",
      " lstm (LSTM)                 (None, 120, 64)           17920     \n",
      "                                                                 \n",
      " leaky_re_lu (LeakyReLU)     (None, 120, 64)           0         \n",
      "                                                                 \n",
      " lstm_1 (LSTM)               (None, 16)                5184      \n",
      "                                                                 \n",
      " leaky_re_lu_1 (LeakyReLU)   (None, 16)                0         \n",
      "                                                                 \n",
      " dropout (Dropout)           (None, 16)                0         \n",
      "                                                                 \n",
      " dense (Dense)               (None, 1)                 17        \n",
      "                                                                 \n",
      "=================================================================\n",
      "Total params: 23121 (90.32 KB)\n",
      "Trainable params: 23121 (90.32 KB)\n",
      "Non-trainable params: 0 (0.00 Byte)\n",
      "_________________________________________________________________\n"
     ]
    }
   ],
   "source": [
    "\n",
    "\n",
    "\n",
    "\n",
    "lstm_model = Sequential()\n",
    "\n",
    "lstm_model.add(LSTM(units=64, input_shape=(window_length, num_features), return_sequences=True))\n",
    "lstm_model.add(LeakyReLU(alpha=.2))\n",
    "lstm_model.add(LSTM(units=16, return_sequences=False))\n",
    "lstm_model.add(LeakyReLU(alpha=.2))\n",
    "lstm_model.add(Dropout(rate=0.2))\n",
    "lstm_model.add(Dense(units=1))\n",
    "\n",
    "lstm_model.summary()\n",
    "\n"
   ]
  },
  {
   "cell_type": "code",
   "execution_count": null,
   "metadata": {},
   "outputs": [],
   "source": []
  }
 ],
 "metadata": {
  "kernelspec": {
   "display_name": "base",
   "language": "python",
   "name": "python3"
  },
  "language_info": {
   "codemirror_mode": {
    "name": "ipython",
    "version": 3
   },
   "file_extension": ".py",
   "mimetype": "text/x-python",
   "name": "python",
   "nbconvert_exporter": "python",
   "pygments_lexer": "ipython3",
   "version": "3.9.13"
  },
  "orig_nbformat": 4
 },
 "nbformat": 4,
 "nbformat_minor": 2
}
